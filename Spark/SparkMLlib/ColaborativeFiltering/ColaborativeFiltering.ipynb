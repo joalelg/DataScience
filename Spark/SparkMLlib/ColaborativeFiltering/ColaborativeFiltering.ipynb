{
 "cells": [
  {
   "cell_type": "markdown",
   "metadata": {},
   "source": [
    "## Recommendation (collaborative filtering) example"
   ]
  },
  {
   "cell_type": "code",
   "execution_count": 4,
   "metadata": {},
   "outputs": [],
   "source": [
    "# pyspark specific imports\n",
    "from pyspark.ml.evaluation import RegressionEvaluator\n",
    "from pyspark.ml.recommendation import ALS\n",
    "from pyspark.sql.functions import col\n",
    "\n",
    "# other python imports\n",
    "import matplotlib.pyplot as plt\n",
    "import numpy as np\n",
    "import pandas as pd\n",
    "import time\n",
    "import warnings\n",
    "warnings.filterwarnings('ignore')"
   ]
  },
  {
   "cell_type": "code",
   "execution_count": 5,
   "metadata": {},
   "outputs": [],
   "source": [
    "import pyspark.sql.functions as F"
   ]
  },
  {
   "cell_type": "code",
   "execution_count": 6,
   "metadata": {},
   "outputs": [
    {
     "data": {
      "text/html": [
       "\n",
       "        <div>\n",
       "            <p><b>SparkContext</b></p>\n",
       "\n",
       "            <p><a href=\"http://ec2-3-234-177-44.compute-1.amazonaws.com:4040\">Spark UI</a></p>\n",
       "\n",
       "            <dl>\n",
       "              <dt>Version</dt>\n",
       "                <dd><code>v2.4.4</code></dd>\n",
       "              <dt>Master</dt>\n",
       "                <dd><code>local[*]</code></dd>\n",
       "              <dt>AppName</dt>\n",
       "                <dd><code>PySparkShell</code></dd>\n",
       "            </dl>\n",
       "        </div>\n",
       "        "
      ],
      "text/plain": [
       "<SparkContext master=local[*] appName=PySparkShell>"
      ]
     },
     "execution_count": 6,
     "metadata": {},
     "output_type": "execute_result"
    }
   ],
   "source": [
    "sc"
   ]
  },
  {
   "cell_type": "markdown",
   "metadata": {
    "collapsed": true
   },
   "source": [
    "### Load data"
   ]
  },
  {
   "cell_type": "markdown",
   "metadata": {},
   "source": [
    "\n",
    "GroupLens Research has collected and made available rating data sets from the MovieLens web site. The data sets were collected over various periods of time, depending on the size of the set. They can be found here.\n",
    "\n",
    "In our case, we will use the latest datasets:\n",
    "\n",
    "* Small: 100,000 ratings and 2,488 tag applications applied to 8,570 movies by 706 users by 4/2015.\n",
    "* Full: 21,000,000 ratings and 470,000 tag applications applied to 27,000 movies by 230,000 users by 4/2015.\n",
    "\n",
    "Data was previously downloaded to master and sent to S3 bucket "
   ]
  },
  {
   "cell_type": "code",
   "execution_count": 7,
   "metadata": {},
   "outputs": [],
   "source": [
    "local_setup = False\n",
    "dsets_paths = dict()\n",
    "\n",
    "if local_setup:\n",
    "    dsets_paths['ratings'] = 'ratings.csv'\n",
    "    dsets_paths['movies'] =  'movies.csv'\n",
    "else:\n",
    "    dsets_paths['ratings'] = \"s3a://jalg-data/data/public-data-sets/movielens/ml-latest-small/ratings.csv\"\n",
    "    #dsets_paths['ratings'] \"s3a://jalg-data/data/public-data-sets/movielens/ml-latest/ratings.csv\"\n",
    "    dsets_paths['movies'] = \"s3a://jalg-data/data/public-data-sets/movielens/ml-latest-small/movies.csv\"\n",
    "    #dsets_paths['movies'] =\"s3a://jalg-data/data/public-data-sets/movielens/ml-latest/movies.csv\"\n",
    "# load ratings\n",
    "ratings = spark.read.option(\"sep\", \",\")\\\n",
    "            .option(\"header\", \"true\")\\\n",
    "            .csv(dsets_paths['ratings']\n",
    "                 , inferSchema=True)#.limit(30000)\n",
    "ratings = ratings.cache()"
   ]
  },
  {
   "cell_type": "code",
   "execution_count": 8,
   "metadata": {},
   "outputs": [
    {
     "name": "stdout",
     "output_type": "stream",
     "text": [
      "+------+-------+------+---------+\n",
      "|userId|movieId|rating|timestamp|\n",
      "+------+-------+------+---------+\n",
      "|     1|      1|   4.0|964982703|\n",
      "|     1|      3|   4.0|964981247|\n",
      "|     1|      6|   4.0|964982224|\n",
      "+------+-------+------+---------+\n",
      "only showing top 3 rows\n",
      "\n",
      "None\n",
      "+-------+------------------+----------------+------------------+--------------------+\n",
      "|summary|            userId|         movieId|            rating|           timestamp|\n",
      "+-------+------------------+----------------+------------------+--------------------+\n",
      "|  count|            100836|          100836|            100836|              100836|\n",
      "|   mean|326.12756356856676|19435.2957177992| 3.501556983616962|1.2059460873684695E9|\n",
      "| stddev| 182.6184914635004|35530.9871987003|1.0425292390606342|2.1626103599513078E8|\n",
      "|    min|                 1|               1|               0.5|           828124615|\n",
      "|    max|               610|          193609|               5.0|          1537799250|\n",
      "+-------+------------------+----------------+------------------+--------------------+\n",
      "\n",
      "None\n",
      "unique users 610\n",
      "unique items 9724\n"
     ]
    }
   ],
   "source": [
    "print(ratings.show(3))\n",
    "print(ratings.describe([\"userId\", \"movieId\", \"rating\", \"timestamp\"]).show())\n",
    "print('unique users', ratings.select('userId').dropDuplicates().count())\n",
    "print('unique items', ratings.select('movieId').dropDuplicates().count())"
   ]
  },
  {
   "cell_type": "code",
   "execution_count": 9,
   "metadata": {},
   "outputs": [],
   "source": [
    "# load movie titles\n",
    "movies = spark.read.option(\"sep\", \",\")\\\n",
    "            .option(\"header\", \"true\")\\\n",
    "            .csv( dsets_paths['movies']\n",
    "                 , inferSchema=True)\n",
    "movies = movies.cache()"
   ]
  },
  {
   "cell_type": "code",
   "execution_count": 10,
   "metadata": {},
   "outputs": [
    {
     "data": {
      "text/plain": [
       "[Row(movieId=1, title='Toy Story (1995)', genres='Adventure|Animation|Children|Comedy|Fantasy'),\n",
       " Row(movieId=2, title='Jumanji (1995)', genres='Adventure|Children|Fantasy')]"
      ]
     },
     "execution_count": 10,
     "metadata": {},
     "output_type": "execute_result"
    }
   ],
   "source": [
    "# print first n movies\n",
    "n=2\n",
    "movies.head(n)"
   ]
  },
  {
   "cell_type": "markdown",
   "metadata": {},
   "source": [
    "## Personalized recommendations with  Alternating Least Squares (ALS)¶"
   ]
  },
  {
   "cell_type": "markdown",
   "metadata": {},
   "source": [
    "Build the recommendation model using Spark  Collaborative Filtering implementation \n",
    "using Alternating Least Squares (ALS)  on the training data.  \n",
    "The movies data set already has the necessary format (UserId, MovieId, Rating) to feed the ALS in order to build the recommender system. \n",
    "\n",
    "So we proceed to split the data set in to a train and test subsets."
   ]
  },
  {
   "cell_type": "code",
   "execution_count": 11,
   "metadata": {},
   "outputs": [],
   "source": [
    "# Split on train and test\n",
    "(training, test) = ratings.randomSplit([0.8, 0.2])"
   ]
  },
  {
   "cell_type": "markdown",
   "metadata": {},
   "source": [
    "### Train matrix factorization model¶"
   ]
  },
  {
   "cell_type": "markdown",
   "metadata": {},
   "source": [
    "Then train using the train set."
   ]
  },
  {
   "cell_type": "markdown",
   "metadata": {},
   "source": [
    "### Model Optimization\n",
    "The ALS model can be interpreted as  users evaluations being the consequence of preference hidden factors on a lower space (lower than the users by movies matrix rank). So the model learns those factors by gradually learning its weights. To tweak it, the next hyper parameters can be modified.\n",
    "\n",
    "Sources: [SparkALS](https://spark.apache.org/docs/latest/ml-collaborative-filtering.html). and [this implementation](https://spark.apache.org/docs/latest/ml-collaborative-filtering.html\n",
    ").\n",
    "\n",
    "\n",
    "* __rank__ (defaults to 10): the number of latent factors in the model, or equivalently, the number of columns k in the user-feature and product-feature matrices. In non-trivial cases, this is also their rank.\n",
    "\n",
    "* __iterations__  (defaults to 10): the number of iterations that the factorization runs. Instead of runing the algorithm until RMSE converged which actually takes very long time to finish with large datasets, we only let it run in a given number of iterations. More iterations take more time but may produce a better factorization.\n",
    "\n",
    "* __regParam___ (defaulst to 1.0): a standard overfitting parameter. Higher values resist overfitting, but values that are too high hurt the factorization's accuracy.\n"
   ]
  },
  {
   "cell_type": "code",
   "execution_count": 22,
   "metadata": {},
   "outputs": [
    {
     "name": "stdout",
     "output_type": "stream",
     "text": [
      "Train 1 of 25 models with rank=6 lambda_=1.000000\n",
      "Train 5 of 25 models with rank=6 lambda_=0.000150\n",
      "Train 10 of 25 models with rank=10 lambda_=0.000150\n",
      "Train 15 of 25 models with rank=20 lambda_=0.000150\n",
      "Train 20 of 25 models with rank=40 lambda_=0.000150\n",
      "Train 25 of 25 models with rank=100 lambda_=0.000150\n"
     ]
    }
   ],
   "source": [
    "# Build the recommendation model using ALS on the training data\n",
    "# Note we set cold start strategy to 'drop' to ensure we don't get NaN evaluation metrics\n",
    "# K and lambda values were obtained with a sampling subset made on other notebook\n",
    "\n",
    "evaluations = []\n",
    "ranks = [6, 10, 20, 40,  100 ] #, 150,200 5, 7, \n",
    "lambdas = [1, 0.15, .015, .0015, .00015 ] #10, 1.0, .01, .001, .0001\n",
    "best_model = dict()\n",
    "best_test_performance = None  \n",
    "best_model = None\n",
    "\n",
    "stime = time.time()\n",
    "counter = 1\n",
    "for rank in ranks: \n",
    "    for lambda_ in lambdas: # lambda_ because lambda is a reserved word\n",
    "        ncombinations = len(ranks)*len(lambdas)\n",
    "        if ((counter % len(ranks)*len(lambdas)//5) == 0) or (counter in [1, ncombinations] ): #Limit the prints to six\n",
    "            print(\"Train %d of %d models with rank=%d lambda_=%f\" % (counter, total_models, rank, lambda_))\n",
    "        # with each combination of params, we should run multiple times and get avg\n",
    "        # for simple, we only run one time.\n",
    "\n",
    "        model = ALS(regParam=lambda_, rank=rank, userCol=\"userId\", itemCol=\"movieId\", ratingCol=\"rating\"\n",
    "                 , maxIter=20\n",
    "                 , seed = 4321\n",
    "                 , coldStartStrategy=\"drop\"  # 'drop' to ensure we don't get NaN evaluation metrics\n",
    "                 , numUserBlocks=10\n",
    "                 , numItemBlocks=10)\n",
    "        model = model.fit(training)\n",
    "\n",
    "        predictions = model.transform(training)\n",
    "        # Evaluate the model by computing the RMSE on train and test datasets\n",
    "        predictions = model.transform(training)\n",
    "        evaluator = RegressionEvaluator(metricName=\"rmse\", labelCol=\"rating\",\n",
    "                                predictionCol=\"prediction\")\n",
    "        rmse_train = evaluator.evaluate(predictions)\n",
    "        predictions = model.transform(test)\n",
    "        evaluator = RegressionEvaluator(metricName=\"rmse\", labelCol=\"rating\",\n",
    "                                predictionCol=\"prediction\")\n",
    "        rmse_test = evaluator.evaluate(predictions)\n",
    "        #print(best_test_performance, rmse_test)\n",
    "         \n",
    "        best_test_performance = rmse_test if not best_test_performance else min([rmse_test, best_test_performance])\n",
    "        if (best_test_performance == rmse_test): #Update best model\n",
    "            best_model = model.copy()\n",
    "        #print('best_perf', best_test_performance)\n",
    "        \n",
    "        evaluations.append(((rank, lambda_), rmse_train, rmse_test))\n",
    "        counter +=1\n",
    "\n",
    "etime = time.time()"
   ]
  },
  {
   "cell_type": "code",
   "execution_count": 23,
   "metadata": {},
   "outputs": [
    {
     "name": "stdout",
     "output_type": "stream",
     "text": [
      "Elapsed time: 6.67 mins.\n"
     ]
    }
   ],
   "source": [
    "etime = time.time()\n",
    "print('Elapsed time: %.2f mins.' % ((etime-stime)/60))\n"
   ]
  },
  {
   "cell_type": "code",
   "execution_count": 59,
   "metadata": {},
   "outputs": [
    {
     "data": {
      "text/html": [
       "<div>\n",
       "<style scoped>\n",
       "    .dataframe tbody tr th:only-of-type {\n",
       "        vertical-align: middle;\n",
       "    }\n",
       "\n",
       "    .dataframe tbody tr th {\n",
       "        vertical-align: top;\n",
       "    }\n",
       "\n",
       "    .dataframe thead th {\n",
       "        text-align: right;\n",
       "    }\n",
       "</style>\n",
       "<table border=\"1\" class=\"dataframe\">\n",
       "  <thead>\n",
       "    <tr style=\"text-align: right;\">\n",
       "      <th></th>\n",
       "      <th>rank</th>\n",
       "      <th>lambda</th>\n",
       "      <th>train_error</th>\n",
       "      <th>test_error</th>\n",
       "    </tr>\n",
       "  </thead>\n",
       "  <tbody>\n",
       "    <tr>\n",
       "      <th>11</th>\n",
       "      <td>20</td>\n",
       "      <td>0.150</td>\n",
       "      <td>0.604214</td>\n",
       "      <td>0.869655</td>\n",
       "    </tr>\n",
       "    <tr>\n",
       "      <th>16</th>\n",
       "      <td>40</td>\n",
       "      <td>0.150</td>\n",
       "      <td>0.594258</td>\n",
       "      <td>0.870355</td>\n",
       "    </tr>\n",
       "    <tr>\n",
       "      <th>6</th>\n",
       "      <td>10</td>\n",
       "      <td>0.150</td>\n",
       "      <td>0.632943</td>\n",
       "      <td>0.870623</td>\n",
       "    </tr>\n",
       "    <tr>\n",
       "      <th>21</th>\n",
       "      <td>100</td>\n",
       "      <td>0.150</td>\n",
       "      <td>0.592612</td>\n",
       "      <td>0.870687</td>\n",
       "    </tr>\n",
       "    <tr>\n",
       "      <th>1</th>\n",
       "      <td>6</td>\n",
       "      <td>0.150</td>\n",
       "      <td>0.664213</td>\n",
       "      <td>0.872047</td>\n",
       "    </tr>\n",
       "    <tr>\n",
       "      <th>2</th>\n",
       "      <td>6</td>\n",
       "      <td>0.015</td>\n",
       "      <td>0.557275</td>\n",
       "      <td>1.023516</td>\n",
       "    </tr>\n",
       "    <tr>\n",
       "      <th>7</th>\n",
       "      <td>10</td>\n",
       "      <td>0.015</td>\n",
       "      <td>0.459796</td>\n",
       "      <td>1.090942</td>\n",
       "    </tr>\n",
       "    <tr>\n",
       "      <th>12</th>\n",
       "      <td>20</td>\n",
       "      <td>0.015</td>\n",
       "      <td>0.300401</td>\n",
       "      <td>1.172729</td>\n",
       "    </tr>\n",
       "  </tbody>\n",
       "</table>\n",
       "</div>"
      ],
      "text/plain": [
       "    rank  lambda  train_error  test_error\n",
       "11    20   0.150     0.604214    0.869655\n",
       "16    40   0.150     0.594258    0.870355\n",
       "6     10   0.150     0.632943    0.870623\n",
       "21   100   0.150     0.592612    0.870687\n",
       "1      6   0.150     0.664213    0.872047\n",
       "2      6   0.015     0.557275    1.023516\n",
       "7     10   0.015     0.459796    1.090942\n",
       "12    20   0.015     0.300401    1.172729"
      ]
     },
     "execution_count": 59,
     "metadata": {},
     "output_type": "execute_result"
    }
   ],
   "source": [
    "performance_df = pd.DataFrame(  {'rank': [e[0][0] for e in evaluations]\n",
    "                              , 'lambda': [e[0][1] for e in evaluations]\n",
    "                              , 'train_error': [e[1] for e in evaluations]\n",
    "                              , 'test_error': [e[2] for e in evaluations]\n",
    "                              })\n",
    "performance_df.sort_values(by='test_error').head(8)"
   ]
  },
  {
   "cell_type": "code",
   "execution_count": 25,
   "metadata": {},
   "outputs": [
    {
     "data": {
      "image/png": "[encoded data removed]",
      "text/plain": [
       "<Figure size 432x288 with 1 Axes>"
      ]
     },
     "metadata": {
      "needs_background": "light"
     },
     "output_type": "display_data"
    }
   ],
   "source": [
    "# Let's pot all rank values fixing lambda on it's best performance value \n",
    "fig, ax = plt.subplots()\n",
    "performance_df.loc[performance_df['lambda'] == 0.15,:].sort_values(by='rank')\\\n",
    "    .set_index('rank')[['test_error']].plot(ax=ax)\n",
    "plt.show()"
   ]
  },
  {
   "cell_type": "code",
   "execution_count": 26,
   "metadata": {},
   "outputs": [
    {
     "data": {
      "text/html": [
       "<div>\n",
       "<style scoped>\n",
       "    .dataframe tbody tr th:only-of-type {\n",
       "        vertical-align: middle;\n",
       "    }\n",
       "\n",
       "    .dataframe tbody tr th {\n",
       "        vertical-align: top;\n",
       "    }\n",
       "\n",
       "    .dataframe thead th {\n",
       "        text-align: right;\n",
       "    }\n",
       "</style>\n",
       "<table border=\"1\" class=\"dataframe\">\n",
       "  <thead>\n",
       "    <tr style=\"text-align: right;\">\n",
       "      <th></th>\n",
       "      <th>rank</th>\n",
       "      <th>lambda</th>\n",
       "      <th>train_error</th>\n",
       "      <th>test_error</th>\n",
       "    </tr>\n",
       "  </thead>\n",
       "  <tbody>\n",
       "  </tbody>\n",
       "</table>\n",
       "</div>"
      ],
      "text/plain": [
       "Empty DataFrame\n",
       "Columns: [rank, lambda, train_error, test_error]\n",
       "Index: []"
      ]
     },
     "execution_count": 26,
     "metadata": {},
     "output_type": "execute_result"
    }
   ],
   "source": [
    "performance_df.loc[performance_df.train_error==0.15,:]"
   ]
  },
  {
   "cell_type": "code",
   "execution_count": 27,
   "metadata": {},
   "outputs": [
    {
     "data": {
      "text/plain": [
       "20"
      ]
     },
     "execution_count": 27,
     "metadata": {},
     "output_type": "execute_result"
    }
   ],
   "source": [
    "model = best_model\n",
    "best_model.rank"
   ]
  },
  {
   "cell_type": "markdown",
   "metadata": {},
   "source": [
    "## Make Recommendations¶"
   ]
  },
  {
   "cell_type": "markdown",
   "metadata": {},
   "source": [
    "With the trained model we can make some recommendations. \n",
    "\n",
    "\n",
    "Before, that let’s explore the test set. We can see that every user has evaluated a different number of movies. "
   ]
  },
  {
   "cell_type": "code",
   "execution_count": 28,
   "metadata": {},
   "outputs": [],
   "source": [
    "def explore_user(uID):\n",
    "    userRecs(uID)"
   ]
  },
  {
   "cell_type": "code",
   "execution_count": 29,
   "metadata": {},
   "outputs": [
    {
     "data": {
      "text/plain": [
       "DataFrame[userId: int, recommendations: array<struct<movieId:int,rating:float>>]"
      ]
     },
     "execution_count": 29,
     "metadata": {},
     "output_type": "execute_result"
    }
   ],
   "source": [
    "# Generate top 10 movie recommendations for each user\n",
    "userRecs = model.recommendForAllUsers(10)\n",
    "# Generate top 10 user recommendations for each movie\n",
    "# movieRecs = model.recommendForAllItems(10)\n",
    "userRecs.cache()"
   ]
  },
  {
   "cell_type": "code",
   "execution_count": 30,
   "metadata": {},
   "outputs": [],
   "source": [
    "def movie_names(mid):\n",
    "    #print(type(movies.where(col(\"movieId\") == mid).select(col(\"title\")).collect()))\n",
    "    return movies.where(col(\"movieId\") == mid).select(col(\"title\")).collect()[0][0]\n",
    "\n",
    "def movie_genres(mid):\n",
    "    #print(type(movies.where(col(\"movieId\") == mid).select(col(\"title\")).collect()))\n",
    "    return movies.where(col(\"movieId\") == mid).select(col(\"genres\")).collect()[0][0]"
   ]
  },
  {
   "cell_type": "code",
   "execution_count": 31,
   "metadata": {},
   "outputs": [
    {
     "name": "stdout",
     "output_type": "stream",
     "text": [
      "+------+--------------+\n",
      "|userId|Num Of Records|\n",
      "+------+--------------+\n",
      "|   148|            35|\n",
      "|   463|            24|\n",
      "|   471|            23|\n",
      "|   496|            25|\n",
      "|   243|            29|\n",
      "+------+--------------+\n",
      "only showing top 5 rows\n",
      "\n"
     ]
    }
   ],
   "source": [
    "# Lets explore some valid userId values\n",
    "training.groupBy('userId')\\\n",
    "        .agg(\n",
    "         F.count(F.lit(1)).alias(\"Num Of Records\")\n",
    "        )\\\n",
    "        .show(5)"
   ]
  },
  {
   "cell_type": "code",
   "execution_count": 32,
   "metadata": {},
   "outputs": [
    {
     "name": "stdout",
     "output_type": "stream",
     "text": [
      "+------+-------+------+---------+\n",
      "|userId|movieId|rating|timestamp|\n",
      "+------+-------+------+---------+\n",
      "|     1|      3|   4.0|964981247|\n",
      "|     1|      6|   4.0|964982224|\n",
      "|     1|     70|   3.0|964982400|\n",
      "|     1|    110|   4.0|964982176|\n",
      "|     1|    157|   5.0|964984100|\n",
      "+------+-------+------+---------+\n",
      "only showing top 5 rows\n",
      "\n"
     ]
    },
    {
     "data": {
      "text/plain": [
       "1"
      ]
     },
     "execution_count": 32,
     "metadata": {},
     "output_type": "execute_result"
    }
   ],
   "source": [
    "test.show(5)\n",
    "user2test = test.select('userID').take(1)[0]['userID']\n",
    "user2test"
   ]
  },
  {
   "cell_type": "markdown",
   "metadata": {},
   "source": [
    "\n",
    "Let’s see which movies a user has seen and which are the ten first recommendations made by the model."
   ]
  },
  {
   "cell_type": "code",
   "execution_count": 33,
   "metadata": {},
   "outputs": [
    {
     "name": "stdout",
     "output_type": "stream",
     "text": [
      "Training set for user 1\n",
      "\t Toy Story (1995). Adventure|Animation|Children|Comedy|Fantasy 4 \n",
      "\t Seven (a.k.a. Se7en) (1995). Mystery|Thriller 5 \n",
      "\t Usual Suspects, The (1995). Crime|Mystery|Thriller 5 \n",
      "\t Bottle Rocket (1996). Adventure|Comedy|Crime|Romance 5 \n",
      "\t Rob Roy (1995). Action|Drama|Romance|War 5 \n",
      "\t Desperado (1995). Action|Romance|Western 5 \n",
      "\t Billy Madison (1995). Comedy 5 \n",
      "\t Clerks (1994). Comedy 3 \n",
      "\t Dumb & Dumber (Dumb and Dumber) (1994). Adventure|Comedy 5 \n",
      "\t Star Wars: Episode IV - A New Hope (1977). Action|Adventure|Sci-Fi 5 \n",
      "\t Pulp Fiction (1994). Comedy|Crime|Drama|Thriller 3 \n",
      "\t Tommy Boy (1995). Comedy 5 \n",
      "\t Forrest Gump (1994). Comedy|Drama|Romance|War 4 \n",
      "\t Jungle Book, The (1994). Adventure|Children|Romance 5 \n",
      "\t Mask, The (1994). Action|Comedy|Crime|Fantasy 4 \n",
      "\t Blown Away (1994). Action|Thriller 3 \n",
      "\t Dazed and Confused (1993). Comedy 4 \n",
      "\t Fugitive, The (1993). Thriller 5 \n",
      "\t Jurassic Park (1993). Action|Adventure|Sci-Fi|Thriller 4 \n",
      "\t Mrs. Doubtfire (1993). Comedy|Drama 3 \n",
      "\t Schindler's List (1993). Drama|War 5 \n",
      "\t So I Married an Axe Murderer (1993). Comedy|Romance|Thriller 4 \n",
      "\t Tombstone (1993). Action|Drama|Western 5 \n",
      "\t Dances with Wolves (1990). Adventure|Drama|Western 4 \n",
      "\t Batman (1989). Action|Crime|Thriller 4 \n",
      "\t Silence of the Lambs, The (1991). Crime|Horror|Thriller 4 \n",
      "\t Fargo (1996). Comedy|Crime|Drama|Thriller 5 \n",
      "\t James and the Giant Peach (1996). Adventure|Animation|Children|Fantasy|Musical 5 \n",
      "\t Space Jam (1996). Adventure|Animation|Children|Comedy|Fantasy|Sci-Fi 3 \n",
      "\t Rock, The (1996). Action|Adventure|Thriller 4 \n",
      "\t Twister (1996). Action|Adventure|Romance|Thriller 3 \n",
      "\t Independence Day (a.k.a. ID4) (1996). Action|Adventure|Sci-Fi|Thriller 3 \n",
      "\t She's the One (1996). Comedy|Romance 4 \n",
      "\t Wizard of Oz, The (1939). Adventure|Children|Fantasy|Musical 5 \n",
      "\t Citizen Kane (1941). Drama|Mystery 5 \n",
      "\t Adventures of Robin Hood, The (1938). Action|Adventure|Romance 5 \n",
      "\t Ghost and Mrs. Muir, The (1947). Drama|Fantasy|Romance 4 \n",
      "\t Mr. Smith Goes to Washington (1939). Drama 5 \n",
      "\t Escape to Witch Mountain (1975). Adventure|Children|Fantasy 3 \n",
      "\t Winnie the Pooh and the Blustery Day (1968). Animation|Children|Musical 5 \n",
      "\t Three Caballeros, The (1945). Animation|Children|Musical 5 \n",
      "\t Sword in the Stone, The (1963). Animation|Children|Fantasy|Musical 5 \n",
      "\t Dumbo (1941). Animation|Children|Drama|Musical 5 \n",
      "\t Pete's Dragon (1977). Adventure|Animation|Children|Musical 3 \n",
      "\t Bedknobs and Broomsticks (1971). Adventure|Children|Musical 5 \n",
      "\t Alice in Wonderland (1951). Adventure|Animation|Children|Fantasy|Musical 5 \n",
      "\t That Thing You Do! (1996). Comedy|Drama 4 \n",
      "\t Ghost and the Darkness, The (1996). Action|Adventure 5 \n",
      "\t Swingers (1996). Comedy|Drama 4 \n",
      "\t Willy Wonka & the Chocolate Factory (1971). Children|Comedy|Fantasy|Musical 5 \n",
      "\t Monty Python's Life of Brian (1979). Comedy 5 \n",
      "\t Reservoir Dogs (1992). Crime|Mystery|Thriller 5 \n",
      "\t Basic Instinct (1992). Crime|Mystery|Thriller 5 \n",
      "\t Monty Python and the Holy Grail (1975). Adventure|Comedy|Fantasy 5 \n",
      "\t Princess Bride, The (1987). Action|Adventure|Comedy|Fantasy|Romance 5 \n",
      "\t Raiders of the Lost Ark (Indiana Jones and the Raiders of the Lost Ark) (1981). Action|Adventure 5 \n",
      "\t Clockwork Orange, A (1971). Crime|Drama|Sci-Fi|Thriller 5 \n",
      "\t Apocalypse Now (1979). Action|Drama|War 4 \n",
      "\t Star Wars: Episode VI - Return of the Jedi (1983). Action|Adventure|Sci-Fi 5 \n",
      "\t Goodfellas (1990). Crime|Drama 5 \n",
      "\t Alien (1979). Horror|Sci-Fi 4 \n",
      "\t Psycho (1960). Crime|Horror 2 \n",
      "\t Blues Brothers, The (1980). Action|Comedy|Musical 5 \n",
      "\t Full Metal Jacket (1987). Drama|War 5 \n",
      "\t Duck Soup (1933). Comedy|Musical|War 5 \n",
      "\t Shining, The (1980). Horror 3 \n",
      "\t Back to the Future (1985). Adventure|Comedy|Sci-Fi 5 \n",
      "\t Young Frankenstein (1974). Comedy|Fantasy 5 \n",
      "\t Fantasia (1940). Animation|Children|Fantasy|Musical 5 \n",
      "\t Indiana Jones and the Last Crusade (1989). Action|Adventure 5 \n",
      "\t Pink Floyd: The Wall (1982). Drama|Musical 5 \n",
      "\t Nosferatu (Nosferatu, eine Symphonie des Grauens) (1922). Horror 4 \n",
      "\t Batman Returns (1992). Action|Crime 3 \n",
      "\t Sneakers (1992). Action|Comedy|Crime|Drama|Sci-Fi 3 \n",
      "\t Last of the Mohicans, The (1992). Action|Romance|War|Western 3 \n",
      "\t McHale's Navy (1997). Comedy|War 3 \n",
      "\t Best Men (1997). Action|Comedy|Crime|Drama 4 \n",
      "\t Grosse Pointe Blank (1997). Comedy|Crime|Romance 4 \n",
      "\t Austin Powers: International Man of Mystery (1997). Action|Adventure|Comedy 5 \n",
      "\t Con Air (1997). Action|Adventure|Thriller 4 \n",
      "\t Men in Black (a.k.a. MIB) (1997). Action|Comedy|Sci-Fi 3 \n",
      "\t Conan the Barbarian (1982). Action|Adventure|Fantasy 5 \n",
      "\t L.A. Confidential (1997). Crime|Film-Noir|Mystery|Thriller 5 \n",
      "\t Kiss the Girls (1997). Crime|Drama|Mystery|Thriller 4 \n",
      "\t Game, The (1997). Drama|Mystery|Thriller 5 \n",
      "\t I Know What You Did Last Summer (1997). Horror|Mystery|Thriller 3 \n",
      "\t Starship Troopers (1997). Action|Sci-Fi 3 \n",
      "\t Big Lebowski, The (1998). Comedy|Crime 5 \n",
      "\t Wedding Singer, The (1998). Comedy|Romance 4 \n",
      "\t Welcome to Woop-Woop (1997). Comedy 4 \n",
      "\t Wild Things (1998). Crime|Drama|Mystery|Thriller 4 \n",
      "\t Small Soldiers (1998). Animation|Children|Fantasy|War 4 \n",
      "\t Rocky (1976). Drama 5 \n",
      "\t Labyrinth (1986). Adventure|Fantasy|Musical 4 \n",
      "\t Goonies, The (1985). Action|Adventure|Children|Comedy|Fantasy 5 \n",
      "\t Back to the Future Part III (1990). Adventure|Comedy|Sci-Fi|Western 4 \n",
      "\t Bambi (1942). Animation|Children|Drama 5 \n",
      "\t Saving Private Ryan (1998). Action|Drama|War 4 \n",
      "\t Black Cauldron, The (1985). Adventure|Animation|Children|Fantasy 5 \n",
      "\t Flight of the Navigator (1986). Adventure|Children|Sci-Fi 4 \n",
      "\t Great Mouse Detective, The (1986). Action|Animation|Children|Crime 5 \n",
      "\t Honey, I Shrunk the Kids (1989). Adventure|Children|Comedy|Fantasy|Sci-Fi 4 \n",
      "\t Negotiator, The (1998). Action|Crime|Drama|Mystery|Thriller 5 \n",
      "\t Jungle Book, The (1967). Animation|Children|Comedy|Musical 5 \n",
      "\t Rescuers, The (1977). Adventure|Animation|Children|Crime|Drama 5 \n",
      "\t Return to Oz (1985). Adventure|Children|Fantasy 3 \n",
      "\t Rocketeer, The (1991). Action|Adventure|Sci-Fi 5 \n",
      "\t Sleeping Beauty (1959). Animation|Children|Musical 4 \n",
      "\t Song of the South (1946). Adventure|Animation|Children|Musical 4 \n",
      "\t Tron (1982). Action|Adventure|Sci-Fi 4 \n",
      "\t Indiana Jones and the Temple of Doom (1984). Action|Adventure|Fantasy 5 \n",
      "\t Secret of NIMH, The (1982). Adventure|Animation|Children|Drama 5 \n",
      "\t American Tail, An (1986). Adventure|Animation|Children|Comedy 5 \n",
      "\t Legend (1985). Adventure|Fantasy|Romance 4 \n",
      "\t NeverEnding Story, The (1984). Adventure|Children|Fantasy 5 \n",
      "\t Beetlejuice (1988). Comedy|Fantasy 4 \n",
      "\t Willow (1988). Action|Adventure|Fantasy 4 \n",
      "\t Few Good Men, A (1992). Crime|Drama|Thriller 4 \n",
      "\t Edward Scissorhands (1990). Drama|Fantasy|Romance 5 \n",
      "\t American History X (1998). Crime|Drama 5 \n",
      "\t I Still Know What You Did Last Summer (1998). Horror|Mystery|Thriller 2 \n",
      "\t Enemy of the State (1998). Action|Thriller 5 \n",
      "\t King Kong (1933). Action|Adventure|Fantasy|Horror 4 \n",
      "\t Very Bad Things (1998). Comedy|Crime 5 \n",
      "\t Psycho (1998). Crime|Horror|Thriller 2 \n",
      "\t Rushmore (1998). Comedy|Drama 5 \n",
      "\t Romancing the Stone (1984). Action|Adventure|Comedy|Romance 4 \n",
      "\t Young Sherlock Holmes (1985). Action|Adventure|Children|Fantasy|Mystery|Thriller 3 \n",
      "\t Thin Red Line, The (1998). Action|Drama|War 5 \n",
      "\t Crocodile Dundee (1986). Adventure|Comedy 5 \n",
      "\t 20 Dates (1998). Comedy|Romance 4 \n",
      "\t Office Space (1999). Comedy|Crime 5 \n",
      "\t Logan's Run (1976). Action|Adventure|Sci-Fi 3 \n",
      "\t Planet of the Apes (1968). Action|Drama|Sci-Fi 5 \n",
      "\t Lock, Stock & Two Smoking Barrels (1998). Comedy|Crime|Thriller 5 \n",
      "\t Matrix, The (1999). Action|Sci-Fi|Thriller 5 \n",
      "\t Go (1999). Comedy|Crime 5 \n",
      "\t SLC Punk! (1998). Comedy|Drama 5 \n",
      "\t Dick Tracy (1990). Action|Crime 4 \n",
      "\t Mummy, The (1999). Action|Adventure|Comedy|Fantasy|Horror|Thriller 2 \n",
      "\t Star Wars: Episode I - The Phantom Menace (1999). Action|Adventure|Sci-Fi 4 \n",
      "\t Superman (1978). Action|Adventure|Sci-Fi 4 \n",
      "\t Superman II (1980). Action|Sci-Fi 5 \n",
      "\t Frankenstein (1931). Drama|Horror|Sci-Fi 4 \n",
      "\t Rocky Horror Picture Show, The (1975). Comedy|Horror|Musical|Sci-Fi 3 \n",
      "\t Run Lola Run (Lola rennt) (1998). Action|Crime 5 \n",
      "\t South Park: Bigger, Longer and Uncut (1999). Animation|Comedy|Musical 5 \n",
      "\t Ghostbusters (a.k.a. Ghost Busters) (1984). Action|Comedy|Sci-Fi 5 \n",
      "\t Iron Giant, The (1999). Adventure|Animation|Children|Drama|Sci-Fi 5 \n"
     ]
    },
    {
     "name": "stdout",
     "output_type": "stream",
     "text": [
      "\t Big (1988). Comedy|Drama|Fantasy|Romance 4 \n",
      "\t American Beauty (1999). Drama|Romance 5 \n",
      "\t Excalibur (1981). Adventure|Fantasy 5 \n",
      "\t Gulliver's Travels (1939). Adventure|Animation|Children 5 \n",
      "\t Total Recall (1990). Action|Adventure|Sci-Fi|Thriller 4 \n",
      "\t Dirty Dozen, The (1967). Action|Drama|War 5 \n",
      "\t Goldfinger (1964). Action|Adventure|Thriller 5 \n",
      "\t From Russia with Love (1963). Action|Adventure|Thriller 5 \n",
      "\t Dr. No (1962). Action|Adventure|Thriller 5 \n",
      "\t RoboCop (1987). Action|Crime|Drama|Sci-Fi|Thriller 4 \n",
      "\t Who Framed Roger Rabbit? (1988). Adventure|Animation|Children|Comedy|Crime|Fantasy|Mystery 5 \n",
      "\t Live and Let Die (1973). Action|Adventure|Thriller 5 \n",
      "\t Spaceballs (1987). Comedy|Sci-Fi 5 \n",
      "\t Robin Hood (1973). Adventure|Animation|Children|Comedy|Musical 5 \n",
      "\t Dogma (1999). Adventure|Comedy|Fantasy 5 \n",
      "\t Messenger: The Story of Joan of Arc, The (1999). Drama|War 5 \n",
      "\t Longest Day, The (1962). Action|Drama|War 4 \n",
      "\t Green Mile, The (1999). Crime|Drama 5 \n",
      "\t Easy Rider (1969). Adventure|Drama 4 \n",
      "\t Talented Mr. Ripley, The (1999). Drama|Mystery|Thriller 1 \n",
      "\t Sister Act (1992). Comedy|Crime 3 \n",
      "\t Scream 3 (2000). Comedy|Horror|Mystery|Thriller 5 \n",
      "\t JFK (1991). Drama|Mystery|Thriller 5 \n",
      "\t Teenage Mutant Ninja Turtles II: The Secret of the Ooze (1991). Action|Children|Fantasy 4 \n",
      "\t Teenage Mutant Ninja Turtles III (1993). Action|Adventure|Children|Comedy|Fantasy 4 \n",
      "\t Good Morning, Vietnam (1987). Comedy|Drama|War 5 \n",
      "\t Grumpy Old Men (1993). Comedy 5 \n",
      "\t Ladyhawke (1985). Adventure|Fantasy|Romance 4 \n",
      "\t Hook (1991). Adventure|Comedy|Fantasy 4 \n",
      "\t Predator (1987). Action|Sci-Fi|Thriller 4 \n",
      "\t Gladiator (2000). Action|Adventure|Drama 5 \n",
      "\t Road Trip (2000). Comedy 4 \n",
      "\t Man with the Golden Gun, The (1974). Action|Adventure|Thriller 4 \n",
      "\t Blazing Saddles (1974). Comedy|Western 5 \n",
      "\t Mad Max (1979). Action|Adventure|Sci-Fi 5 \n",
      "\t Road Warrior, The (Mad Max 2) (1981). Action|Adventure|Sci-Fi|Thriller 5 \n",
      "\t Shaft (1971). Action|Crime|Drama|Thriller 5 \n",
      "\t Big Trouble in Little China (1986). Action|Adventure|Comedy|Fantasy 4 \n",
      "\t Shaft (2000). Action|Crime|Thriller 4 \n",
      "\t X-Men (2000). Action|Adventure|Sci-Fi 5 \n",
      "\t What About Bob? (1991). Comedy 4 \n",
      "\t Transformers: The Movie (1986). Adventure|Animation|Children|Sci-Fi 4 \n",
      "\t M*A*S*H (a.k.a. MASH) (1970). Comedy|Drama|War 5 \n",
      "\n",
      "Recommendations for user 1\n",
      "\t 1. Dune (2000) (Drama|Fantasy|Sci-Fi) (predicted rating: 5.895)\n",
      "\t 2. Saving Face (2004) (Comedy|Drama|Romance) (predicted rating: 5.676)\n",
      "\t 3. On the Beach (1959) (Drama) (predicted rating: 5.623)\n",
      "\t 4. Mulholland Dr. (1999) (Drama|Mystery|Romance) (predicted rating: 5.623)\n",
      "\t 5. Seve (2014) (Documentary|Drama) (predicted rating: 5.534)\n",
      "\t 6. The Big Bus (1976) (Action|Comedy) (predicted rating: 5.534)\n",
      "\t 7. Visitor, The (2007) (Drama|Romance) (predicted rating: 5.485)\n",
      "\t 8. Deathgasm (2015) (Comedy|Horror) (predicted rating: 5.455)\n",
      "\t 9. Three Billboards Outside Ebbing, Missouri (2017) (Crime|Drama) (predicted rating: 5.433)\n",
      "\t 10. Victory (a.k.a. Escape to Victory) (1981) (Action|Drama|War) (predicted rating: 5.398)\n"
     ]
    }
   ],
   "source": [
    "uID = user2test\n",
    "\n",
    "training_user = training.where(training.userId == uID).select(\"movieId\", \"rating\").collect()\n",
    "print('Training set for user %d' % uID)\n",
    "for i,movie in enumerate(training_user):\n",
    "    #rating = training_user.where(training_user.movieId == movie.movieId).select(\"rating\").collect()\n",
    "    print('\\t %s. %s %d ' % (movie_names(movie.movieId), movie_genres(movie.movieId), movie.rating))\n",
    "print('') # skip line\n",
    "\n",
    "reco_users = userRecs.where(userRecs.userId == uID).select(\"recommendations.movieId\", \"recommendations.rating\").collect()[0]\n",
    "print('Recommendations for user %d' % uID)\n",
    "for i,mid in enumerate(reco_users[0]):\n",
    "    print('\\t %d. %s (%s) (predicted rating: %.3f)' % (i+1,movie_names(mid),movie_genres(mid), reco_users[1][i]))\n",
    "    "
   ]
  },
  {
   "cell_type": "markdown",
   "metadata": {},
   "source": [
    "## Making users segments\n",
    "  "
   ]
  },
  {
   "cell_type": "markdown",
   "metadata": {},
   "source": [
    "Let's get client groups on the reduced projection of the movie space. This will give groups of users with similar movie preferences."
   ]
  },
  {
   "cell_type": "code",
   "execution_count": 34,
   "metadata": {},
   "outputs": [
    {
     "name": "stdout",
     "output_type": "stream",
     "text": [
      "root\n",
      " |-- id: integer (nullable = false)\n",
      " |-- features: array (nullable = true)\n",
      " |    |-- element: float (containsNull = false)\n",
      "\n"
     ]
    }
   ],
   "source": [
    "# Fist explore the model schema. \n",
    "model.userFactors.printSchema()"
   ]
  },
  {
   "cell_type": "code",
   "execution_count": 35,
   "metadata": {},
   "outputs": [
    {
     "name": "stdout",
     "output_type": "stream",
     "text": [
      "+---+--------------------+\n",
      "| id|            features|\n",
      "+---+--------------------+\n",
      "| 10|[-0.8816551, -0.3...|\n",
      "| 20|[0.16113001, -0.4...|\n",
      "| 30|[-0.1453728, -0.1...|\n",
      "| 40|[0.057068627, -0....|\n",
      "| 50|[0.062313825, -0....|\n",
      "| 60|[-0.13638602, -0....|\n",
      "| 70|[0.005427462, -0....|\n",
      "| 80|[-0.17843084, -0....|\n",
      "| 90|[0.26866132, -0.1...|\n",
      "|100|[-0.17184384, -0....|\n",
      "|110|[0.025727633, -0....|\n",
      "|120|[0.072504215, 0.1...|\n",
      "|130|[-0.49154824, -0....|\n",
      "|140|[-0.049246304, -0...|\n",
      "|150|[-0.08004944, -0....|\n",
      "|160|[0.016338939, -0....|\n",
      "|170|[0.04900046, -0.1...|\n",
      "|180|[-0.26558352, -0....|\n",
      "|190|[0.13631311, -0.4...|\n",
      "|200|[-0.267832, -0.47...|\n",
      "+---+--------------------+\n",
      "only showing top 20 rows\n",
      "\n"
     ]
    }
   ],
   "source": [
    "model.userFactors.show()"
   ]
  },
  {
   "cell_type": "code",
   "execution_count": 36,
   "metadata": {},
   "outputs": [
    {
     "name": "stdout",
     "output_type": "stream",
     "text": [
      "+---+--------------------+\n",
      "| id|            features|\n",
      "+---+--------------------+\n",
      "| 10|[-0.8816550970077...|\n",
      "| 20|[0.16113001108169...|\n",
      "+---+--------------------+\n",
      "only showing top 2 rows\n",
      "\n",
      "root\n",
      " |-- id: integer (nullable = false)\n",
      " |-- features: vector (nullable = true)\n",
      "\n"
     ]
    }
   ],
   "source": [
    "# To fit k means we need to transform the struct column (array of floats)\n",
    "# to make it a VectorUDT() fittable on k means model\n",
    "from pyspark.ml.linalg import Vectors, VectorUDT\n",
    "from pyspark.sql.functions import udf\n",
    "to_vector = udf(lambda x: Vectors.dense(x), VectorUDT())\n",
    "userFactors = model.userFactors.select(\"id\", to_vector(\"features\").alias(\"features\"))\n",
    "userFactors.show(2)\n",
    "userFactors.printSchema()"
   ]
  },
  {
   "cell_type": "markdown",
   "metadata": {},
   "source": [
    "###  KMeans clustering"
   ]
  },
  {
   "cell_type": "code",
   "execution_count": 37,
   "metadata": {},
   "outputs": [
    {
     "name": "stdout",
     "output_type": "stream",
     "text": [
      "K=2 Evaluation metric = silhouette 0.1845\n",
      "K=4 Evaluation metric = silhouette 0.1102\n",
      "K=6 Evaluation metric = silhouette 0.0738\n",
      "K=8 Evaluation metric = silhouette 0.0609\n"
     ]
    }
   ],
   "source": [
    "from pyspark.ml.clustering import KMeans\n",
    "from pyspark.ml.evaluation import ClusteringEvaluator\n",
    "# from pyspark.ml.evaluation import ClusteringEvaluator #←Available from Spark2.4 otherwisee\n",
    "# \"cannnot import name Clustering Evaluator\"\n",
    "\n",
    "distances = []\n",
    "K = [i for i in range(2,10,2)]\n",
    "kmeans_metric = 'silhouette' #wssse\n",
    "# Trains a k-means model.\n",
    "for k in K: #\n",
    "    kmeans = KMeans().setK(k).setSeed(123)\n",
    "    cluster_model = kmeans.fit(userFactors)\n",
    "    if kmeans_metric == 'silhouette':\n",
    "        # Evaluate clustering by computing Silhouette score\n",
    "        evaluator = ClusteringEvaluator()\n",
    "        predictions = cluster_model.transform(userFactors)\n",
    "        cluster_metric = evaluator.evaluate(predictions)\n",
    "    elif kmeans_metric=='wssse':\n",
    "        # Evaluate clustering by computing Within Set Sum of Squared Errors.\n",
    "        cluster_metric = cluster_model.computeCost(userFactors)\n",
    "    distances.append(cluster_metric)\n",
    "\n",
    "    print(\"K=%s Evaluation metric = %s %.4f\" % (k, str(kmeans_metric), cluster_metric))"
   ]
  },
  {
   "cell_type": "code",
   "execution_count": 38,
   "metadata": {},
   "outputs": [],
   "source": [
    "%matplotlib inline"
   ]
  },
  {
   "cell_type": "markdown",
   "metadata": {},
   "source": [
    "By looking at the SSE plot, as well as to have a small number which be easy to manage and analyse, it seems a good idea to generate 6, or 8 segments."
   ]
  },
  {
   "cell_type": "code",
   "execution_count": 39,
   "metadata": {},
   "outputs": [
    {
     "data": {
      "image/png": "[encoded data removed]",
      "text/plain": [
       "<Figure size 432x288 with 1 Axes>"
      ]
     },
     "metadata": {
      "needs_background": "light"
     },
     "output_type": "display_data"
    }
   ],
   "source": [
    "\n",
    "plt.plot(K, distances, 'bx-')\n",
    "plt.xlabel('k')\n",
    "plt.ylabel('Sum_of_squared_distances')\n",
    "plt.title('Elbow Method For Optimal k')\n",
    "plt.show()"
   ]
  },
  {
   "cell_type": "code",
   "execution_count": 40,
   "metadata": {},
   "outputs": [],
   "source": [
    "# Train with optimal k number\n",
    "clust_k = 6\n",
    "kmeans = KMeans().setK(clust_k).setSeed(1)\n",
    "cluster_model = kmeans.fit(userFactors)\n"
   ]
  },
  {
   "cell_type": "code",
   "execution_count": 41,
   "metadata": {},
   "outputs": [
    {
     "data": {
      "text/plain": [
       "6"
      ]
     },
     "execution_count": 41,
     "metadata": {},
     "output_type": "execute_result"
    }
   ],
   "source": [
    "# Get cluster centers Shows\n",
    "centers = cluster_model.clusterCenters() # shape = (100,) On the reduced k dimensions matrix factor space\n",
    "len(centers)"
   ]
  },
  {
   "cell_type": "code",
   "execution_count": 42,
   "metadata": {},
   "outputs": [
    {
     "name": "stdout",
     "output_type": "stream",
     "text": [
      "+---+----------+\n",
      "| id|user_group|\n",
      "+---+----------+\n",
      "| 10|         5|\n",
      "| 20|         3|\n",
      "| 30|         0|\n",
      "| 40|         1|\n",
      "| 50|         1|\n",
      "+---+----------+\n",
      "only showing top 5 rows\n",
      "\n"
     ]
    }
   ],
   "source": [
    "# Assign users to cluster groups\n",
    "user_groups = cluster_model.transform(model.userFactors).select('id', 'prediction')\\\n",
    "                    .withColumnRenamed('prediction', 'user_group')\n",
    "\n",
    "\n",
    "user_groups.show(5)\n"
   ]
  },
  {
   "cell_type": "code",
   "execution_count": 43,
   "metadata": {},
   "outputs": [
    {
     "name": "stdout",
     "output_type": "stream",
     "text": [
      "+-------+------+------+---------+---+----------+--------------------+--------------------+\n",
      "|movieId|userId|rating|timestamp| id|user_group|               title|              genres|\n",
      "+-------+------+------+---------+---+----------+--------------------+--------------------+\n",
      "|   3440|     1|   4.0|964981799|  1|         0|Teenage Mutant Ni...|Action|Adventure|...|\n",
      "|   3617|     1|   4.0|964980683|  1|         0|    Road Trip (2000)|              Comedy|\n",
      "|   3441|     1|   5.0|964982328|  1|         0|     Red Dawn (1984)|    Action|Drama|War|\n",
      "|   3729|     1|   5.0|964982363|  1|         0|        Shaft (1971)|Action|Crime|Dram...|\n",
      "|   3639|     1|   4.0|964982271|  1|         0|Man with the Gold...|Action|Adventure|...|\n",
      "|   3489|     1|   4.0|964981775|  1|         0|         Hook (1991)|Adventure|Comedy|...|\n",
      "|   3448|     1|   5.0|964984054|  1|         0|Good Morning, Vie...|    Comedy|Drama|War|\n",
      "|   3809|     1|   4.0|964981220|  1|         0|What About Bob? (...|              Comedy|\n",
      "|   3740|     1|   4.0|964982417|  1|         0|Big Trouble in Li...|Action|Adventure|...|\n",
      "|   3702|     1|   5.0|964983737|  1|         0|      Mad Max (1979)|Action|Adventure|...|\n",
      "|   3671|     1|   5.0|964981589|  1|         0|Blazing Saddles (...|      Comedy|Western|\n",
      "|   3578|     1|   5.0|964980668|  1|         0|    Gladiator (2000)|Action|Adventure|...|\n",
      "|   3527|     1|   4.0|964982271|  1|         0|     Predator (1987)|Action|Sci-Fi|Thr...|\n",
      "|   3479|     1|   4.0|964981725|  1|         0|    Ladyhawke (1985)|Adventure|Fantasy...|\n",
      "|   3450|     1|   5.0|964981144|  1|         0|Grumpy Old Men (1...|              Comedy|\n",
      "|   5060|     1|   5.0|964984002|  1|         0|M*A*S*H (a.k.a. M...|    Comedy|Drama|War|\n",
      "|   4006|     1|   4.0|964982903|  1|         0|Transformers: The...|Adventure|Animati...|\n",
      "|   3793|     1|   5.0|964981855|  1|         0|        X-Men (2000)|Action|Adventure|...|\n",
      "|   3744|     1|   4.0|964980694|  1|         0|        Shaft (2000)|Action|Crime|Thri...|\n",
      "|   3703|     1|   5.0|964981909|  1|         0|Road Warrior, The...|Action|Adventure|...|\n",
      "+-------+------+------+---------+---+----------+--------------------+--------------------+\n",
      "only showing top 20 rows\n",
      "\n"
     ]
    }
   ],
   "source": [
    "# Add genders to ratings table\n",
    "ratingsm = ratings.join(user_groups, ratings.userId == user_groups.id).join(movies, \"movieId\")\n",
    "ratingsm.orderBy('userID').show(20)"
   ]
  },
  {
   "cell_type": "code",
   "execution_count": 44,
   "metadata": {
    "scrolled": false
   },
   "outputs": [
    {
     "name": "stdout",
     "output_type": "stream",
     "text": [
      "+-------+------+------+----------+---+----------+--------------------+--------------------+--------------------+\n",
      "|movieId|userId|rating| timestamp| id|user_group|              genres|              tokens|          genres_vec|\n",
      "+-------+------+------+----------+---+----------+--------------------+--------------------+--------------------+\n",
      "| 163937|   610|   3.5|1493848789|610|         1|     Horror|Thriller|  [horror, thriller]|(20,[3,11],[1.0,1...|\n",
      "| 166534|   610|   4.0|1493848402|610|         1|Drama|Horror|Thri...|[drama, horror, t...|(20,[0,3,11],[1.0...|\n",
      "| 163981|   610|   3.5|1493850155|610|         1|              Horror|            [horror]|     (20,[11],[1.0])|\n",
      "| 168252|   610|   5.0|1493846352|610|         1|       Action|Sci-Fi|    [action, sci-fi]|(20,[2,6],[1.0,1.0])|\n",
      "| 168248|   610|   5.0|1493850091|610|         1|Action|Crime|Thri...|[action, crime, t...|(20,[2,3,7],[1.0,...|\n",
      "| 166528|   610|   4.0|1493879365|610|         1|Action|Adventure|...|[action, adventur...|(20,[2,4,6,8],[1....|\n",
      "| 164179|   610|   5.0|1493845631|610|         1|              Sci-Fi|            [sci-fi]|      (20,[6],[1.0])|\n",
      "| 170875|   610|   3.0|1493846415|610|         1|Action|Crime|Dram...|[action, crime, d...|(20,[0,2,3,7],[1....|\n",
      "| 161634|   610|   4.0|1493848362|610|         1|            Thriller|          [thriller]|      (20,[3],[1.0])|\n",
      "| 168250|   610|   5.0|1494273047|610|         1|              Horror|            [horror]|     (20,[11],[1.0])|\n",
      "+-------+------+------+----------+---+----------+--------------------+--------------------+--------------------+\n",
      "only showing top 10 rows\n",
      "\n"
     ]
    }
   ],
   "source": [
    "# fit a CountVectorizerModel from the corpus to get genres as Bag of Words\n",
    "from pyspark.ml.feature import CountVectorizer, RegexTokenizer\n",
    "from pyspark.ml import Pipeline\n",
    "\n",
    "tokenizer = RegexTokenizer(inputCol=\"genres\", outputCol=\"tokens\", pattern=\"\\|\")\n",
    "cv = CountVectorizer(inputCol=\"tokens\", outputCol=\"genres_vec\", minDF=2.0)\n",
    "\n",
    "pipeline = Pipeline(stages=[tokenizer, cv])\n",
    "\n",
    "pipelineFit = pipeline.fit(ratingsm)\n",
    "movies_cv = pipelineFit.transform(ratingsm)\n",
    "\n",
    "columns_subset = [i  for i in movies_cv.columns if i not in ['timestam', 'title']]\n",
    "movies_cv.select(columns_subset).orderBy(\"userId\", ascending=False).show(10)\n"
   ]
  },
  {
   "cell_type": "code",
   "execution_count": 45,
   "metadata": {},
   "outputs": [
    {
     "name": "stdout",
     "output_type": "stream",
     "text": [
      "+----------+-----+\n",
      "|user_group|count|\n",
      "+----------+-----+\n",
      "|         0|31335|\n",
      "|         1|28067|\n",
      "|         2| 3311|\n",
      "|         3|18742|\n",
      "|         4| 5997|\n",
      "|         5|13384|\n",
      "+----------+-----+\n",
      "\n"
     ]
    },
    {
     "data": {
      "image/png": "[encoded data removed]",
      "text/plain": [
       "<Figure size 432x288 with 1 Axes>"
      ]
     },
     "metadata": {
      "needs_background": "light"
     },
     "output_type": "display_data"
    }
   ],
   "source": [
    "# Check group frequencies\n",
    "group_counts = movies_cv.groupBy('user_group').count().orderBy('user_group')\n",
    "group_counts.show()\n",
    "fig, ax = plt.subplots()\n",
    "group_counts.toPandas().plot.barh(ax=ax)\n",
    "plt.show()"
   ]
  },
  {
   "cell_type": "code",
   "execution_count": 49,
   "metadata": {},
   "outputs": [],
   "source": [
    "# Utility function to convert the rank values sparse matrix to dense \n",
    "from pyspark.sql import types as T\n",
    "from pyspark.ml.linalg import SparseVector, DenseVector\n",
    "def sparse_to_array(v):\n",
    "  '''Convert pyspark.ml.linalg.SparseVector to array (which allows usual aggregations on it)'''\n",
    "  v = DenseVector(v)  \n",
    "  new_array = list([float(x) for x in v])\n",
    "  return new_array\n",
    "\n",
    "sparse_to_array_udf = F.udf(sparse_to_array, T.ArrayType(T.FloatType()))\n",
    "\n",
    "#sum_vec_elems_udf = F.udf(lambda(x, T.ArrayType(T.FloatType()))\n",
    "\n",
    "movies_cv_vec = movies_cv.select(['user_group', 'genres_vec'])\\\n",
    "                  .withColumn('genres_vec', sparse_to_array_udf('genres_vec'))\\\n",
    "                  #.groupBy('user_group').count()\n"
   ]
  },
  {
   "cell_type": "code",
   "execution_count": 51,
   "metadata": {},
   "outputs": [],
   "source": [
    "total_genres = len(pipelineFit.stages[1].vocabulary)\n",
    "groups_genres_pd = movies_cv_vec.groupBy('user_group').agg(*[F.sum(movies_cv_vec.genres_vec.getItem(i))\\\n",
    "                     .alias(\"v\"+str(i)) for i in range(total_genres)]).toPandas()\n"
   ]
  },
  {
   "cell_type": "code",
   "execution_count": 52,
   "metadata": {},
   "outputs": [
    {
     "data": {
      "text/html": [
       "<div>\n",
       "<style scoped>\n",
       "    .dataframe tbody tr th:only-of-type {\n",
       "        vertical-align: middle;\n",
       "    }\n",
       "\n",
       "    .dataframe tbody tr th {\n",
       "        vertical-align: top;\n",
       "    }\n",
       "\n",
       "    .dataframe thead th {\n",
       "        text-align: right;\n",
       "    }\n",
       "</style>\n",
       "<table border=\"1\" class=\"dataframe\">\n",
       "  <thead>\n",
       "    <tr style=\"text-align: right;\">\n",
       "      <th></th>\n",
       "      <th>drama</th>\n",
       "      <th>comedy</th>\n",
       "      <th>action</th>\n",
       "      <th>thriller</th>\n",
       "      <th>adventure</th>\n",
       "      <th>romance</th>\n",
       "      <th>sci-fi</th>\n",
       "      <th>crime</th>\n",
       "      <th>fantasy</th>\n",
       "      <th>children</th>\n",
       "      <th>mystery</th>\n",
       "      <th>horror</th>\n",
       "      <th>animation</th>\n",
       "      <th>war</th>\n",
       "      <th>imax</th>\n",
       "      <th>musical</th>\n",
       "      <th>western</th>\n",
       "      <th>documentary</th>\n",
       "      <th>film-noir</th>\n",
       "      <th>(no genres listed)</th>\n",
       "    </tr>\n",
       "    <tr>\n",
       "      <th>user_group</th>\n",
       "      <th></th>\n",
       "      <th></th>\n",
       "      <th></th>\n",
       "      <th></th>\n",
       "      <th></th>\n",
       "      <th></th>\n",
       "      <th></th>\n",
       "      <th></th>\n",
       "      <th></th>\n",
       "      <th></th>\n",
       "      <th></th>\n",
       "      <th></th>\n",
       "      <th></th>\n",
       "      <th></th>\n",
       "      <th></th>\n",
       "      <th></th>\n",
       "      <th></th>\n",
       "      <th></th>\n",
       "      <th></th>\n",
       "      <th></th>\n",
       "    </tr>\n",
       "  </thead>\n",
       "  <tbody>\n",
       "    <tr>\n",
       "      <th>0</th>\n",
       "      <td>12052.0</td>\n",
       "      <td>11976.0</td>\n",
       "      <td>10650.0</td>\n",
       "      <td>8579.0</td>\n",
       "      <td>8414.0</td>\n",
       "      <td>5134.0</td>\n",
       "      <td>6166.0</td>\n",
       "      <td>5301.0</td>\n",
       "      <td>4323.0</td>\n",
       "      <td>3196.0</td>\n",
       "      <td>2533.0</td>\n",
       "      <td>2416.0</td>\n",
       "      <td>2806.0</td>\n",
       "      <td>1312.0</td>\n",
       "      <td>1924.0</td>\n",
       "      <td>1216.0</td>\n",
       "      <td>459.0</td>\n",
       "      <td>432.0</td>\n",
       "      <td>168.0</td>\n",
       "      <td>25.0</td>\n",
       "    </tr>\n",
       "    <tr>\n",
       "      <th>1</th>\n",
       "      <td>14003.0</td>\n",
       "      <td>10205.0</td>\n",
       "      <td>6618.0</td>\n",
       "      <td>7205.0</td>\n",
       "      <td>4971.0</td>\n",
       "      <td>5324.0</td>\n",
       "      <td>3768.0</td>\n",
       "      <td>5011.0</td>\n",
       "      <td>2611.0</td>\n",
       "      <td>1678.0</td>\n",
       "      <td>2414.0</td>\n",
       "      <td>2101.0</td>\n",
       "      <td>1357.0</td>\n",
       "      <td>1531.0</td>\n",
       "      <td>625.0</td>\n",
       "      <td>987.0</td>\n",
       "      <td>549.0</td>\n",
       "      <td>500.0</td>\n",
       "      <td>418.0</td>\n",
       "      <td>10.0</td>\n",
       "    </tr>\n",
       "    <tr>\n",
       "      <th>2</th>\n",
       "      <td>1636.0</td>\n",
       "      <td>1409.0</td>\n",
       "      <td>668.0</td>\n",
       "      <td>737.0</td>\n",
       "      <td>528.0</td>\n",
       "      <td>856.0</td>\n",
       "      <td>344.0</td>\n",
       "      <td>507.0</td>\n",
       "      <td>293.0</td>\n",
       "      <td>203.0</td>\n",
       "      <td>262.0</td>\n",
       "      <td>277.0</td>\n",
       "      <td>132.0</td>\n",
       "      <td>164.0</td>\n",
       "      <td>40.0</td>\n",
       "      <td>135.0</td>\n",
       "      <td>57.0</td>\n",
       "      <td>25.0</td>\n",
       "      <td>47.0</td>\n",
       "      <td>0.0</td>\n",
       "    </tr>\n",
       "    <tr>\n",
       "      <th>3</th>\n",
       "      <td>7103.0</td>\n",
       "      <td>7048.0</td>\n",
       "      <td>6663.0</td>\n",
       "      <td>5304.0</td>\n",
       "      <td>5000.0</td>\n",
       "      <td>2927.0</td>\n",
       "      <td>3679.0</td>\n",
       "      <td>3171.0</td>\n",
       "      <td>2022.0</td>\n",
       "      <td>1770.0</td>\n",
       "      <td>1359.0</td>\n",
       "      <td>1254.0</td>\n",
       "      <td>1147.0</td>\n",
       "      <td>1024.0</td>\n",
       "      <td>655.0</td>\n",
       "      <td>819.0</td>\n",
       "      <td>490.0</td>\n",
       "      <td>105.0</td>\n",
       "      <td>164.0</td>\n",
       "      <td>4.0</td>\n",
       "    </tr>\n",
       "    <tr>\n",
       "      <th>4</th>\n",
       "      <td>2359.0</td>\n",
       "      <td>2502.0</td>\n",
       "      <td>1688.0</td>\n",
       "      <td>1420.0</td>\n",
       "      <td>1409.0</td>\n",
       "      <td>982.0</td>\n",
       "      <td>1137.0</td>\n",
       "      <td>877.0</td>\n",
       "      <td>809.0</td>\n",
       "      <td>536.0</td>\n",
       "      <td>406.0</td>\n",
       "      <td>554.0</td>\n",
       "      <td>406.0</td>\n",
       "      <td>248.0</td>\n",
       "      <td>242.0</td>\n",
       "      <td>239.0</td>\n",
       "      <td>79.0</td>\n",
       "      <td>113.0</td>\n",
       "      <td>41.0</td>\n",
       "      <td>3.0</td>\n",
       "    </tr>\n",
       "    <tr>\n",
       "      <th>5</th>\n",
       "      <td>4775.0</td>\n",
       "      <td>5913.0</td>\n",
       "      <td>4348.0</td>\n",
       "      <td>3207.0</td>\n",
       "      <td>3839.0</td>\n",
       "      <td>2901.0</td>\n",
       "      <td>2149.0</td>\n",
       "      <td>1814.0</td>\n",
       "      <td>1776.0</td>\n",
       "      <td>1825.0</td>\n",
       "      <td>700.0</td>\n",
       "      <td>689.0</td>\n",
       "      <td>1140.0</td>\n",
       "      <td>580.0</td>\n",
       "      <td>659.0</td>\n",
       "      <td>742.0</td>\n",
       "      <td>296.0</td>\n",
       "      <td>44.0</td>\n",
       "      <td>32.0</td>\n",
       "      <td>5.0</td>\n",
       "    </tr>\n",
       "  </tbody>\n",
       "</table>\n",
       "</div>"
      ],
      "text/plain": [
       "              drama   comedy   action  thriller  adventure  romance  sci-fi  \\\n",
       "user_group                                                                    \n",
       "0           12052.0  11976.0  10650.0    8579.0     8414.0   5134.0  6166.0   \n",
       "1           14003.0  10205.0   6618.0    7205.0     4971.0   5324.0  3768.0   \n",
       "2            1636.0   1409.0    668.0     737.0      528.0    856.0   344.0   \n",
       "3            7103.0   7048.0   6663.0    5304.0     5000.0   2927.0  3679.0   \n",
       "4            2359.0   2502.0   1688.0    1420.0     1409.0    982.0  1137.0   \n",
       "5            4775.0   5913.0   4348.0    3207.0     3839.0   2901.0  2149.0   \n",
       "\n",
       "             crime  fantasy  children  mystery  horror  animation     war  \\\n",
       "user_group                                                                  \n",
       "0           5301.0   4323.0    3196.0   2533.0  2416.0     2806.0  1312.0   \n",
       "1           5011.0   2611.0    1678.0   2414.0  2101.0     1357.0  1531.0   \n",
       "2            507.0    293.0     203.0    262.0   277.0      132.0   164.0   \n",
       "3           3171.0   2022.0    1770.0   1359.0  1254.0     1147.0  1024.0   \n",
       "4            877.0    809.0     536.0    406.0   554.0      406.0   248.0   \n",
       "5           1814.0   1776.0    1825.0    700.0   689.0     1140.0   580.0   \n",
       "\n",
       "              imax  musical  western  documentary  film-noir  \\\n",
       "user_group                                                     \n",
       "0           1924.0   1216.0    459.0        432.0      168.0   \n",
       "1            625.0    987.0    549.0        500.0      418.0   \n",
       "2             40.0    135.0     57.0         25.0       47.0   \n",
       "3            655.0    819.0    490.0        105.0      164.0   \n",
       "4            242.0    239.0     79.0        113.0       41.0   \n",
       "5            659.0    742.0    296.0         44.0       32.0   \n",
       "\n",
       "            (no genres listed)  \n",
       "user_group                      \n",
       "0                         25.0  \n",
       "1                         10.0  \n",
       "2                          0.0  \n",
       "3                          4.0  \n",
       "4                          3.0  \n",
       "5                          5.0  "
      ]
     },
     "execution_count": 52,
     "metadata": {},
     "output_type": "execute_result"
    }
   ],
   "source": [
    "groups_genres_pd.set_index('user_group', inplace=True)\n",
    "\n",
    "groups_genres_pd.columns = list(pipelineFit.stages[1].vocabulary)\n",
    "groups_genres_pd.sort_index().head(10)"
   ]
  },
  {
   "cell_type": "code",
   "execution_count": 56,
   "metadata": {},
   "outputs": [
    {
     "data": {
      "text/html": [
       "<div>\n",
       "<style scoped>\n",
       "    .dataframe tbody tr th:only-of-type {\n",
       "        vertical-align: middle;\n",
       "    }\n",
       "\n",
       "    .dataframe tbody tr th {\n",
       "        vertical-align: top;\n",
       "    }\n",
       "\n",
       "    .dataframe thead th {\n",
       "        text-align: right;\n",
       "    }\n",
       "</style>\n",
       "<table border=\"1\" class=\"dataframe\">\n",
       "  <thead>\n",
       "    <tr style=\"text-align: right;\">\n",
       "      <th></th>\n",
       "      <th>drama</th>\n",
       "      <th>comedy</th>\n",
       "      <th>action</th>\n",
       "      <th>thriller</th>\n",
       "      <th>adventure</th>\n",
       "      <th>romance</th>\n",
       "      <th>sci-fi</th>\n",
       "      <th>crime</th>\n",
       "      <th>fantasy</th>\n",
       "      <th>children</th>\n",
       "      <th>mystery</th>\n",
       "      <th>horror</th>\n",
       "      <th>animation</th>\n",
       "      <th>war</th>\n",
       "      <th>imax</th>\n",
       "      <th>musical</th>\n",
       "      <th>western</th>\n",
       "      <th>documentary</th>\n",
       "      <th>film-noir</th>\n",
       "    </tr>\n",
       "    <tr>\n",
       "      <th>user_group</th>\n",
       "      <th></th>\n",
       "      <th></th>\n",
       "      <th></th>\n",
       "      <th></th>\n",
       "      <th></th>\n",
       "      <th></th>\n",
       "      <th></th>\n",
       "      <th></th>\n",
       "      <th></th>\n",
       "      <th></th>\n",
       "      <th></th>\n",
       "      <th></th>\n",
       "      <th></th>\n",
       "      <th></th>\n",
       "      <th></th>\n",
       "      <th></th>\n",
       "      <th></th>\n",
       "      <th></th>\n",
       "      <th></th>\n",
       "    </tr>\n",
       "  </thead>\n",
       "  <tbody>\n",
       "    <tr>\n",
       "      <th>0</th>\n",
       "      <td>12052.0</td>\n",
       "      <td>11976.0</td>\n",
       "      <td>10650.0</td>\n",
       "      <td>8579.0</td>\n",
       "      <td>8414.0</td>\n",
       "      <td>5134.0</td>\n",
       "      <td>6166.0</td>\n",
       "      <td>5301.0</td>\n",
       "      <td>4323.0</td>\n",
       "      <td>3196.0</td>\n",
       "      <td>2533.0</td>\n",
       "      <td>2416.0</td>\n",
       "      <td>2806.0</td>\n",
       "      <td>1312.0</td>\n",
       "      <td>1924.0</td>\n",
       "      <td>1216.0</td>\n",
       "      <td>459.0</td>\n",
       "      <td>432.0</td>\n",
       "      <td>168.0</td>\n",
       "    </tr>\n",
       "    <tr>\n",
       "      <th>1</th>\n",
       "      <td>14003.0</td>\n",
       "      <td>10205.0</td>\n",
       "      <td>6618.0</td>\n",
       "      <td>7205.0</td>\n",
       "      <td>4971.0</td>\n",
       "      <td>5324.0</td>\n",
       "      <td>3768.0</td>\n",
       "      <td>5011.0</td>\n",
       "      <td>2611.0</td>\n",
       "      <td>1678.0</td>\n",
       "      <td>2414.0</td>\n",
       "      <td>2101.0</td>\n",
       "      <td>1357.0</td>\n",
       "      <td>1531.0</td>\n",
       "      <td>625.0</td>\n",
       "      <td>987.0</td>\n",
       "      <td>549.0</td>\n",
       "      <td>500.0</td>\n",
       "      <td>418.0</td>\n",
       "    </tr>\n",
       "    <tr>\n",
       "      <th>2</th>\n",
       "      <td>1636.0</td>\n",
       "      <td>1409.0</td>\n",
       "      <td>668.0</td>\n",
       "      <td>737.0</td>\n",
       "      <td>528.0</td>\n",
       "      <td>856.0</td>\n",
       "      <td>344.0</td>\n",
       "      <td>507.0</td>\n",
       "      <td>293.0</td>\n",
       "      <td>203.0</td>\n",
       "      <td>262.0</td>\n",
       "      <td>277.0</td>\n",
       "      <td>132.0</td>\n",
       "      <td>164.0</td>\n",
       "      <td>40.0</td>\n",
       "      <td>135.0</td>\n",
       "      <td>57.0</td>\n",
       "      <td>25.0</td>\n",
       "      <td>47.0</td>\n",
       "    </tr>\n",
       "    <tr>\n",
       "      <th>3</th>\n",
       "      <td>7103.0</td>\n",
       "      <td>7048.0</td>\n",
       "      <td>6663.0</td>\n",
       "      <td>5304.0</td>\n",
       "      <td>5000.0</td>\n",
       "      <td>2927.0</td>\n",
       "      <td>3679.0</td>\n",
       "      <td>3171.0</td>\n",
       "      <td>2022.0</td>\n",
       "      <td>1770.0</td>\n",
       "      <td>1359.0</td>\n",
       "      <td>1254.0</td>\n",
       "      <td>1147.0</td>\n",
       "      <td>1024.0</td>\n",
       "      <td>655.0</td>\n",
       "      <td>819.0</td>\n",
       "      <td>490.0</td>\n",
       "      <td>105.0</td>\n",
       "      <td>164.0</td>\n",
       "    </tr>\n",
       "    <tr>\n",
       "      <th>4</th>\n",
       "      <td>2359.0</td>\n",
       "      <td>2502.0</td>\n",
       "      <td>1688.0</td>\n",
       "      <td>1420.0</td>\n",
       "      <td>1409.0</td>\n",
       "      <td>982.0</td>\n",
       "      <td>1137.0</td>\n",
       "      <td>877.0</td>\n",
       "      <td>809.0</td>\n",
       "      <td>536.0</td>\n",
       "      <td>406.0</td>\n",
       "      <td>554.0</td>\n",
       "      <td>406.0</td>\n",
       "      <td>248.0</td>\n",
       "      <td>242.0</td>\n",
       "      <td>239.0</td>\n",
       "      <td>79.0</td>\n",
       "      <td>113.0</td>\n",
       "      <td>41.0</td>\n",
       "    </tr>\n",
       "    <tr>\n",
       "      <th>5</th>\n",
       "      <td>4775.0</td>\n",
       "      <td>5913.0</td>\n",
       "      <td>4348.0</td>\n",
       "      <td>3207.0</td>\n",
       "      <td>3839.0</td>\n",
       "      <td>2901.0</td>\n",
       "      <td>2149.0</td>\n",
       "      <td>1814.0</td>\n",
       "      <td>1776.0</td>\n",
       "      <td>1825.0</td>\n",
       "      <td>700.0</td>\n",
       "      <td>689.0</td>\n",
       "      <td>1140.0</td>\n",
       "      <td>580.0</td>\n",
       "      <td>659.0</td>\n",
       "      <td>742.0</td>\n",
       "      <td>296.0</td>\n",
       "      <td>44.0</td>\n",
       "      <td>32.0</td>\n",
       "    </tr>\n",
       "  </tbody>\n",
       "</table>\n",
       "</div>"
      ],
      "text/plain": [
       "              drama   comedy   action  thriller  adventure  romance  sci-fi  \\\n",
       "user_group                                                                    \n",
       "0           12052.0  11976.0  10650.0    8579.0     8414.0   5134.0  6166.0   \n",
       "1           14003.0  10205.0   6618.0    7205.0     4971.0   5324.0  3768.0   \n",
       "2            1636.0   1409.0    668.0     737.0      528.0    856.0   344.0   \n",
       "3            7103.0   7048.0   6663.0    5304.0     5000.0   2927.0  3679.0   \n",
       "4            2359.0   2502.0   1688.0    1420.0     1409.0    982.0  1137.0   \n",
       "5            4775.0   5913.0   4348.0    3207.0     3839.0   2901.0  2149.0   \n",
       "\n",
       "             crime  fantasy  children  mystery  horror  animation     war  \\\n",
       "user_group                                                                  \n",
       "0           5301.0   4323.0    3196.0   2533.0  2416.0     2806.0  1312.0   \n",
       "1           5011.0   2611.0    1678.0   2414.0  2101.0     1357.0  1531.0   \n",
       "2            507.0    293.0     203.0    262.0   277.0      132.0   164.0   \n",
       "3           3171.0   2022.0    1770.0   1359.0  1254.0     1147.0  1024.0   \n",
       "4            877.0    809.0     536.0    406.0   554.0      406.0   248.0   \n",
       "5           1814.0   1776.0    1825.0    700.0   689.0     1140.0   580.0   \n",
       "\n",
       "              imax  musical  western  documentary  film-noir  \n",
       "user_group                                                    \n",
       "0           1924.0   1216.0    459.0        432.0      168.0  \n",
       "1            625.0    987.0    549.0        500.0      418.0  \n",
       "2             40.0    135.0     57.0         25.0       47.0  \n",
       "3            655.0    819.0    490.0        105.0      164.0  \n",
       "4            242.0    239.0     79.0        113.0       41.0  \n",
       "5            659.0    742.0    296.0         44.0       32.0  "
      ]
     },
     "execution_count": 56,
     "metadata": {},
     "output_type": "execute_result"
    }
   ],
   "source": [
    "#groups_genres_pd.drop(['(no genres listed)'], axis=1, inplace=True)\n",
    "groups_genres_pd.sort_index().head(10)\n"
   ]
  },
  {
   "cell_type": "code",
   "execution_count": 57,
   "metadata": {},
   "outputs": [],
   "source": [
    "import prince\n",
    "ca = prince.CA(\n",
    "     n_components=2,\n",
    "     n_iter=3,\n",
    "     copy=True,\n",
    "     check_input=True,\n",
    "     engine='auto',\n",
    "     random_state=42\n",
    "     )\n",
    "\n",
    "ca = ca.fit(groups_genres_pd)"
   ]
  },
  {
   "cell_type": "code",
   "execution_count": 58,
   "metadata": {},
   "outputs": [
    {
     "data": {
      "image/png": "[encoded data removed]",
      "text/plain": [
       "<Figure size 1080x864 with 1 Axes>"
      ]
     },
     "metadata": {
      "needs_background": "light"
     },
     "output_type": "display_data"
    }
   ],
   "source": [
    "fig, ax1 = plt.subplots( figsize=(15,12) )\n",
    "ca.plot_coordinates(\n",
    "         X=groups_genres_pd,\n",
    "         ax=ax1,\n",
    "         figsize=(6, 6),\n",
    "         x_component=0,\n",
    "         y_component=1,\n",
    "         show_row_labels=True,\n",
    "         show_col_labels=True)\n",
    "for radio in [.1,.2,.3]:\n",
    "    ax1.add_artist( plt.Circle((0, 0), radio, linestyle = '--', color='gray', alpha=0.2, fill=False))\n",
    "plt.show()"
   ]
  }
 ],
 "metadata": {
  "anaconda-cloud": {},
  "kernelspec": {
   "display_name": "Python 3",
   "language": "python",
   "name": "python3"
  },
  "language_info": {
   "codemirror_mode": {
    "name": "ipython",
    "version": 3
   },
   "file_extension": ".py",
   "mimetype": "text/x-python",
   "name": "python",
   "nbconvert_exporter": "python",
   "pygments_lexer": "ipython3",
   "version": "3.7.1"
  }
 },
 "nbformat": 4,
 "nbformat_minor": 1
}
