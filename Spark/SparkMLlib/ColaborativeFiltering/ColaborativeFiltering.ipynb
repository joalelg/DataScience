{
 "cells": [
  {
   "cell_type": "markdown",
   "metadata": {},
   "source": [
    "## Recommendation (collaborative filtering) example"
   ]
  },
  {
   "cell_type": "code",
   "execution_count": 1,
   "metadata": {
    "collapsed": false
   },
   "outputs": [
    {
     "name": "stderr",
     "output_type": "stream",
     "text": [
      "/home/ec2-user/anaconda2/lib/python2.7/site-packages/matplotlib/font_manager.py:273: UserWarning: Matplotlib is building the font cache using fc-list. This may take a moment.\n",
      "  warnings.warn('Matplotlib is building the font cache using fc-list. This may take a moment.')\n"
     ]
    }
   ],
   "source": [
    "# pyspark specific imports\n",
    "from pyspark.ml.evaluation import RegressionEvaluator\n",
    "from pyspark.ml.recommendation import ALS\n",
    "from pyspark.sql.functions import col\n",
    "\n",
    "# other python imports\n",
    "import matplotlib.pyplot as plt\n",
    "import numpy as np\n",
    "import seaborn as sns\n",
    "import time"
   ]
  },
  {
   "cell_type": "code",
   "execution_count": 2,
   "metadata": {
    "collapsed": true
   },
   "outputs": [],
   "source": [
    "from pyspark.sql.functions import *"
   ]
  },
  {
   "cell_type": "code",
   "execution_count": 3,
   "metadata": {
    "collapsed": false
   },
   "outputs": [
    {
     "data": {
      "text/html": [
       "\n",
       "        <div>\n",
       "            <p><b>SparkContext</b></p>\n",
       "\n",
       "            <p><a href=\"http://ec2-52-3-235-146.compute-1.amazonaws.com:4040\">Spark UI</a></p>\n",
       "\n",
       "            <dl>\n",
       "              <dt>Version</dt>\n",
       "                <dd><code>v2.2.0</code></dd>\n",
       "              <dt>Master</dt>\n",
       "                <dd><code>spark://ec2-52-3-235-146.compute-1.amazonaws.com:7077</code></dd>\n",
       "              <dt>AppName</dt>\n",
       "                <dd><code>PySparkShell</code></dd>\n",
       "            </dl>\n",
       "        </div>\n",
       "        "
      ],
      "text/plain": [
       "<SparkContext master=spark://ec2-52-3-235-146.compute-1.amazonaws.com:7077 appName=PySparkShell>"
      ]
     },
     "execution_count": 3,
     "metadata": {},
     "output_type": "execute_result"
    }
   ],
   "source": [
    "sc"
   ]
  },
  {
   "cell_type": "markdown",
   "metadata": {
    "collapsed": true
   },
   "source": [
    "### Load data"
   ]
  },
  {
   "cell_type": "markdown",
   "metadata": {},
   "source": [
    "\n",
    "GroupLens Research has collected and made available rating data sets from the MovieLens web site. The data sets were collected over various periods of time, depending on the size of the set. They can be found here.\n",
    "\n",
    "In our case, we will use the latest datasets:\n",
    "\n",
    "* Small: 100,000 ratings and 2,488 tag applications applied to 8,570 movies by 706 users by 4/2015.\n",
    "* Full: 21,000,000 ratings and 470,000 tag applications applied to 27,000 movies by 230,000 users by 4/2015.\n",
    "\n",
    "Data was previously downloaded to master and sent to S3 bucket "
   ]
  },
  {
   "cell_type": "code",
   "execution_count": 4,
   "metadata": {
    "collapsed": false
   },
   "outputs": [],
   "source": [
    "# load ratings\n",
    "ratings = spark.read.option(\"sep\", \",\")\\\n",
    "            .option(\"header\", \"true\")\\\n",
    "            .csv(\n",
    "                 \"s3a://jalg-data/data/public-data-sets/movielens/ml-latest-small/ratings.csv\"\n",
    "                 #\"s3a://jalg-data/data/public-data-sets/movielens/ml-latest/ratings.csv\"\n",
    "                 , inferSchema=True)\n",
    "ratings = ratings.cache()"
   ]
  },
  {
   "cell_type": "code",
   "execution_count": 5,
   "metadata": {
    "collapsed": false
   },
   "outputs": [
    {
     "name": "stdout",
     "output_type": "stream",
     "text": [
      "Row(userId=1, movieId=1, rating=4.0, timestamp=964982703)\n",
      "+-------+------------------+----------------+------------------+--------------------+\n",
      "|summary|            userId|         movieId|            rating|           timestamp|\n",
      "+-------+------------------+----------------+------------------+--------------------+\n",
      "|  count|            100836|          100836|            100836|              100836|\n",
      "|   mean|326.12756356856676|19435.2957177992| 3.501556983616962|1.2059460873684695E9|\n",
      "| stddev| 182.6184914635004|35530.9871987003|1.0425292390606342|2.1626103599513078E8|\n",
      "|    min|                 1|               1|               0.5|           828124615|\n",
      "|    max|               610|          193609|               5.0|          1537799250|\n",
      "+-------+------------------+----------------+------------------+--------------------+\n",
      "\n",
      "None\n",
      "('uniquer users', 610)\n",
      "('uniquer items', 9724)\n"
     ]
    }
   ],
   "source": [
    "print(ratings.head())\n",
    "print(ratings.describe([\"userId\", \"movieId\", \"rating\", \"timestamp\"]).show())\n",
    "print('uniquer users', ratings.select('userId').dropDuplicates().count())\n",
    "print('uniquer items', ratings.select('movieId').dropDuplicates().count())"
   ]
  },
  {
   "cell_type": "code",
   "execution_count": 6,
   "metadata": {
    "collapsed": false
   },
   "outputs": [],
   "source": [
    "# load movie titles\n",
    "movies = spark.read.option(\"sep\", \",\")\\\n",
    "            .option(\"header\", \"true\")\\\n",
    "            .csv(\n",
    "                 \"s3a://jalg-data/data/public-data-sets/movielens/ml-latest-small/movies.csv\"\n",
    "                 #\"s3a://jalg-data/data/public-data-sets/movielens/ml-latest/movies.csv\"\n",
    "                 , inferSchema=True)\n",
    "movies = movies.cache()"
   ]
  },
  {
   "cell_type": "code",
   "execution_count": 7,
   "metadata": {
    "collapsed": false
   },
   "outputs": [
    {
     "name": "stdout",
     "output_type": "stream",
     "text": [
      "[Row(movieId=1, title=u'Toy Story (1995)', genres=u'Adventure|Animation|Children|Comedy|Fantasy'), Row(movieId=2, title=u'Jumanji (1995)', genres=u'Adventure|Children|Fantasy')]\n"
     ]
    }
   ],
   "source": [
    "# print first n movies\n",
    "n=2\n",
    "print(movies.head(n))"
   ]
  },
  {
   "cell_type": "markdown",
   "metadata": {},
   "source": [
    "## Pre-Process data¶"
   ]
  },
  {
   "cell_type": "code",
   "execution_count": 8,
   "metadata": {
    "collapsed": true
   },
   "outputs": [],
   "source": [
    "(training, test) = ratings.randomSplit([0.8, 0.2])"
   ]
  },
  {
   "cell_type": "markdown",
   "metadata": {},
   "source": [
    "### Train matrix factorization model¶"
   ]
  },
  {
   "cell_type": "markdown",
   "metadata": {},
   "source": [
    "Build the recommendation model using Spark  Collaborative Filtering implementation \n",
    "using Alternating Least Squares (ALS)  on the training data."
   ]
  },
  {
   "cell_type": "code",
   "execution_count": 9,
   "metadata": {
    "collapsed": true
   },
   "outputs": [],
   "source": [
    "# Build the recommendation model using ALS on the training data\n",
    "# Note we set cold start strategy to 'drop' to ensure we don't get NaN evaluation metrics\n",
    "# K and lambda values were obtained with a sampling subset made on other notebook\n",
    "\n",
    "K=100\n",
    "lmbda = 0.147945\n",
    "als = ALS(regParam=lmbda, rank=K, maxIter=20, userCol=\"userId\", itemCol=\"movieId\", ratingCol=\"rating\",\n",
    "          coldStartStrategy=\"drop\", numUserBlocks=10, numItemBlocks=10)\n",
    "\n",
    "stime = time.time()\n",
    "model = als.fit(training)\n",
    "etime = time.time()"
   ]
  },
  {
   "cell_type": "code",
   "execution_count": 10,
   "metadata": {
    "collapsed": false
   },
   "outputs": [
    {
     "name": "stdout",
     "output_type": "stream",
     "text": [
      "('Elapsed time', 136.13564705848694)\n"
     ]
    }
   ],
   "source": [
    "\n",
    "print('Elapsed time', etime-stime)"
   ]
  },
  {
   "cell_type": "markdown",
   "metadata": {},
   "source": [
    "## Predictions and model exploration¶"
   ]
  },
  {
   "cell_type": "code",
   "execution_count": 11,
   "metadata": {
    "collapsed": true
   },
   "outputs": [],
   "source": [
    "# Evaluate the model by computing the RMSE on train and test datasets\n",
    "predictions = model.transform(training)\n",
    "evaluator = RegressionEvaluator(metricName=\"rmse\", labelCol=\"rating\",\n",
    "                                predictionCol=\"prediction\")\n",
    "rmse_train = evaluator.evaluate(predictions)\n",
    "\n",
    "predictions = model.transform(test)\n",
    "evaluator = RegressionEvaluator(metricName=\"rmse\", labelCol=\"rating\",\n",
    "                                predictionCol=\"prediction\")\n",
    "rmse_test = evaluator.evaluate(predictions)"
   ]
  },
  {
   "cell_type": "code",
   "execution_count": 12,
   "metadata": {
    "collapsed": false
   },
   "outputs": [
    {
     "name": "stdout",
     "output_type": "stream",
     "text": [
      "('Train RMSE = ', '0.586345561129')\n",
      "('Test RMSE = ', '0.873013713849')\n"
     ]
    }
   ],
   "source": [
    "#Train RMSE =  0.6356150490826092 #.4496 with small \n",
    "#Test RMSE =  0.8453643678422643  #.8750\n",
    "print(\"Train RMSE = \", str(rmse_train))\n",
    "print(\"Test RMSE = \", str(rmse_test))"
   ]
  },
  {
   "cell_type": "code",
   "execution_count": 13,
   "metadata": {
    "collapsed": true
   },
   "outputs": [],
   "source": [
    "def explore_user(uID):\n",
    "    userRecs(uID)"
   ]
  },
  {
   "cell_type": "code",
   "execution_count": 14,
   "metadata": {
    "collapsed": false
   },
   "outputs": [
    {
     "data": {
      "text/plain": [
       "DataFrame[userId: int, recommendations: array<struct<movieId:int,rating:float>>]"
      ]
     },
     "execution_count": 14,
     "metadata": {},
     "output_type": "execute_result"
    }
   ],
   "source": [
    "# Generate top 10 movie recommendations for each user\n",
    "userRecs = model.recommendForAllUsers(10)\n",
    "# Generate top 10 user recommendations for each movie\n",
    "# movieRecs = model.recommendForAllItems(10)\n",
    "userRecs.cache()"
   ]
  },
  {
   "cell_type": "code",
   "execution_count": 15,
   "metadata": {
    "collapsed": true
   },
   "outputs": [],
   "source": [
    "def movie_names(mid):\n",
    "    #print(type(movies.where(col(\"movieId\") == mid).select(col(\"title\")).collect()))\n",
    "    return movies.where(col(\"movieId\") == mid).select(col(\"title\")).collect()[0][0]\n",
    "\n",
    "def movie_genres(mid):\n",
    "    #print(type(movies.where(col(\"movieId\") == mid).select(col(\"title\")).collect()))\n",
    "    return movies.where(col(\"movieId\") == mid).select(col(\"genres\")).collect()[0][0]"
   ]
  },
  {
   "cell_type": "code",
   "execution_count": null,
   "metadata": {
    "collapsed": false
   },
   "outputs": [
    {
     "name": "stdout",
     "output_type": "stream",
     "text": [
      "+------+--------------+\n",
      "|userId|Num Of Records|\n",
      "+------+--------------+\n",
      "| 52697|            20|\n",
      "| 53191|            33|\n",
      "| 53565|            89|\n",
      "| 53634|           532|\n",
      "| 53691|           323|\n",
      "+------+--------------+\n",
      "only showing top 5 rows\n",
      "\n"
     ]
    }
   ],
   "source": [
    "# Lets explore some valid userId values\n",
    "training.groupBy('userId')\\\n",
    "        .agg(\n",
    "         count(lit(1)).alias(\"Num Of Records\")\n",
    "        )\\\n",
    "        .show(5)"
   ]
  },
  {
   "cell_type": "code",
   "execution_count": 16,
   "metadata": {
    "collapsed": false
   },
   "outputs": [
    {
     "name": "stdout",
     "output_type": "stream",
     "text": [
      "+------+-------+------+---------+\n",
      "|userId|movieId|rating|timestamp|\n",
      "+------+-------+------+---------+\n",
      "|     1|      1|   4.0|964982703|\n",
      "|     1|     47|   5.0|964983815|\n",
      "|     1|     50|   5.0|964982931|\n",
      "|     1|     70|   3.0|964982400|\n",
      "|     1|    101|   5.0|964980868|\n",
      "+------+-------+------+---------+\n",
      "only showing top 5 rows\n",
      "\n"
     ]
    }
   ],
   "source": [
    "training.show(5)"
   ]
  },
  {
   "cell_type": "code",
   "execution_count": 17,
   "metadata": {
    "collapsed": false
   },
   "outputs": [
    {
     "name": "stdout",
     "output_type": "stream",
     "text": [
      "Training set for user 481\n",
      "\t Fly Away Home (1996). Adventure|Children 3 \n",
      "\t English Patient, The (1996). Drama|Romance|War 4 \n",
      "\t Scream (1996). Comedy|Horror|Mystery|Thriller 2 \n",
      "\t Dante's Peak (1997). Action|Thriller 2 \n",
      "\t Rosewood (1997). Action|Drama 4 \n",
      "\t Saint, The (1997). Action|Romance|Sci-Fi|Thriller 3 \n",
      "\t Crash (1996). Drama|Thriller 1 \n",
      "\t Liar Liar (1997). Comedy 2 \n",
      "\t Contact (1997). Drama|Sci-Fi 3 \n",
      "\t G.I. Jane (1997). Action|Drama 3 \n",
      "\t George of the Jungle (1997). Children|Comedy 1 \n",
      "\t Excess Baggage (1997). Adventure|Romance 2 \n",
      "\t Edge, The (1997). Adventure|Drama 3 \n",
      "\t L.A. Confidential (1997). Crime|Film-Noir|Mystery|Thriller 5 \n",
      "\t Kiss the Girls (1997). Crime|Drama|Mystery|Thriller 3 \n",
      "\t Gattaca (1997). Drama|Sci-Fi|Thriller 3 \n",
      "\t Bean (1997). Comedy 2 \n",
      "\t Rainmaker, The (1997). Drama 2 \n",
      "\t Jackal, The (1997). Action|Thriller 2 \n",
      "\t Amistad (1997). Drama|Mystery 3 \n",
      "\t Midnight in the Garden of Good and Evil (1997). Crime|Drama|Mystery 2 \n",
      "\t Jackie Brown (1997). Crime|Drama|Thriller 4 \n",
      "\n",
      "Recommendations for user 481\n",
      "\t 1. Jetée, La (1962) (Romance|Sci-Fi) (predicted rating: 3.987)\n",
      "\t 2. Come and See (Idi i smotri) (1985) (Drama|War) (predicted rating: 3.939)\n",
      "\t 3. On the Beach (1959) (Drama) (predicted rating: 3.793)\n",
      "\t 4. World of Tomorrow (2015) (Animation|Comedy) (predicted rating: 3.754)\n",
      "\t 5. General, The (1926) (Comedy|War) (predicted rating: 3.743)\n",
      "\t 6. Saving Face (2004) (Comedy|Drama|Romance) (predicted rating: 3.718)\n",
      "\t 7. Adam's Rib (1949) (Comedy|Romance) (predicted rating: 3.708)\n",
      "\t 8. Match Factory Girl, The (Tulitikkutehtaan tyttö) (1990) (Comedy|Drama) (predicted rating: 3.704)\n",
      "\t 9. It's Such a Beautiful Day (2012) (Animation|Comedy|Drama|Fantasy|Sci-Fi) (predicted rating: 3.704)\n",
      "\t 10. Baraka (1992) (Documentary) (predicted rating: 3.671)\n"
     ]
    }
   ],
   "source": [
    "uID = 481 #516\n",
    "\n",
    "training_user = training.where(training.userId == uID).select(\"movieId\", \"rating\").collect()\n",
    "print('Training set for user %d' % uID)\n",
    "for i,movie in enumerate(training_user):\n",
    "    #rating = training_user.where(training_user.movieId == movie.movieId).select(\"rating\").collect()\n",
    "    print('\\t %s. %s %d ' % (movie_names(movie.movieId), movie_genres(movie.movieId), movie.rating))\n",
    "print('') # skip line\n",
    "\n",
    "reco_users = userRecs.where(userRecs.userId == uID).select(\"recommendations.movieId\", \"recommendations.rating\").collect()[0]\n",
    "print('Recommendations for user %d' % uID)\n",
    "for i,mid in enumerate(reco_users[0]):\n",
    "    print('\\t %d. %s (%s) (predicted rating: %.3f)' % (i+1,movie_names(mid),movie_genres(mid), reco_users[1][i]))\n",
    "    "
   ]
  },
  {
   "cell_type": "markdown",
   "metadata": {},
   "source": [
    "## Making client clusters"
   ]
  },
  {
   "cell_type": "markdown",
   "metadata": {},
   "source": [
    "Let's get client groups on the reduced movie space. This will give groups of users with similar movie preferences."
   ]
  },
  {
   "cell_type": "code",
   "execution_count": 22,
   "metadata": {
    "collapsed": false
   },
   "outputs": [
    {
     "name": "stdout",
     "output_type": "stream",
     "text": [
      "root\n",
      " |-- id: integer (nullable = false)\n",
      " |-- features: array (nullable = true)\n",
      " |    |-- element: float (containsNull = false)\n",
      "\n"
     ]
    }
   ],
   "source": [
    "# Fist explore the model schema. \n",
    "\n",
    "model.userFactors.printSchema()"
   ]
  },
  {
   "cell_type": "code",
   "execution_count": 23,
   "metadata": {
    "collapsed": false
   },
   "outputs": [
    {
     "name": "stdout",
     "output_type": "stream",
     "text": [
      "+---+--------------------+\n",
      "| id|            features|\n",
      "+---+--------------------+\n",
      "| 10|[-0.1626528650522...|\n",
      "| 20|[-0.0171219650655...|\n",
      "+---+--------------------+\n",
      "only showing top 2 rows\n",
      "\n"
     ]
    }
   ],
   "source": [
    "# To fit k means we need to transform the struct column (array of floats)\n",
    "# to make it a VectorUDT() fittable on k means model\n",
    "from pyspark.ml.linalg import Vectors, VectorUDT\n",
    "from pyspark.sql.functions import udf\n",
    "to_vector = udf(lambda a: Vectors.dense(a), VectorUDT())\n",
    "userFactors = model.userFactors.select(\"id\", to_vector(\"features\").alias(\"features\"))\n",
    "userFactors.show(2)\n",
    "userFactors.printSchema()"
   ]
  },
  {
   "cell_type": "code",
   "execution_count": 51,
   "metadata": {
    "collapsed": false
   },
   "outputs": [
    {
     "name": "stdout",
     "output_type": "stream",
     "text": [
      "K=14 Within Set Sum of Squared Errors = 588.96014009\n",
      "K=14 Within Set Sum of Squared Errors = 549.870534171\n",
      "K=14 Within Set Sum of Squared Errors = 527.983063205\n",
      "K=14 Within Set Sum of Squared Errors = 517.364766303\n",
      "K=14 Within Set Sum of Squared Errors = 507.744570397\n",
      "K=14 Within Set Sum of Squared Errors = 493.79450532\n",
      "K=14 Within Set Sum of Squared Errors = 490.873107739\n"
     ]
    }
   ],
   "source": [
    "from pyspark.ml.clustering import KMeans\n",
    "# from pyspark.ml.evaluation import ClusteringEvaluator #←Available from Spark2.4 otherwisee\n",
    "# \"cannnot import name Clustering Evaluator\"\n",
    "\n",
    "distances = []\n",
    "K = [i for i in range(2,16,2)]\n",
    "# Trains a k-means model.\n",
    "for k in K: #\n",
    "    kmeans = KMeans().setK(k).setSeed(1)\n",
    "    model = kmeans.fit(userFactors)\n",
    "    # Evaluate clustering by computing Within Set Sum of Squared Errors.\n",
    "    wssse = model.computeCost(userFactors)\n",
    "    distances.append(wssse)\n",
    "    print(\"K=%s Within Set Sum of Squared Errors = %s\" % (i, str(wssse)))"
   ]
  },
  {
   "cell_type": "code",
   "execution_count": 46,
   "metadata": {
    "collapsed": true
   },
   "outputs": [],
   "source": [
    "%matplotlib inline"
   ]
  },
  {
   "cell_type": "code",
   "execution_count": 52,
   "metadata": {
    "collapsed": false
   },
   "outputs": [
    {
     "data": {
      "image/png": "[encoded data removed]",
      "text/plain": [
       "<matplotlib.figure.Figure at 0x7f1df49e2650>"
      ]
     },
     "metadata": {},
     "output_type": "display_data"
    }
   ],
   "source": [
    "\n",
    "plt.plot(K, distances, 'bx-')\n",
    "plt.xlabel('k')\n",
    "plt.ylabel('Sum_of_squared_distances')\n",
    "plt.title('Elbow Method For Optimal k')\n",
    "plt.show()"
   ]
  },
  {
   "cell_type": "code",
   "execution_count": 31,
   "metadata": {
    "collapsed": false
   },
   "outputs": [
    {
     "name": "stdout",
     "output_type": "stream",
     "text": [
      "Cluster Centers: \n",
      "[-0.27027453 -0.01456134 -0.12033038  0.21053932 -0.13377108  0.08097948\n",
      " -0.17182734 -0.11293676  0.4611842  -0.23818222  0.17638986 -0.16622032\n",
      "  0.14259084  0.0085197   0.07407033  0.1821133   0.03464363  0.06855111\n",
      "  0.0052641   0.18643391  0.01468537 -0.18681749  0.11970921  0.02300163\n",
      " -0.21754491 -0.11392811  0.42547616  0.10252684  0.05140364  0.04453696\n",
      " -0.20219906  0.18618549 -0.07564795 -0.04380206 -0.4276505  -0.26850009\n",
      "  0.35790176 -0.19487912  0.1410609  -0.13137088 -0.18829244  0.0265753\n",
      "  0.2812695   0.12651698  0.14277859  0.06724467 -0.04974328  0.17051954\n",
      "  0.07813969  0.03645741 -0.04688335  0.26176309  0.23350756 -0.02041319\n",
      "  0.02175639  0.06449949 -0.16387386 -0.28332625  0.07292656 -0.03923635\n",
      " -0.36586827 -0.15771603  0.173909    0.14804051  0.02275693  0.1001347\n",
      " -0.08321379 -0.17220358 -0.28324984 -0.11226808  0.42412092  0.20207809\n",
      "  0.05582198 -0.11481481 -0.18123334 -0.27164248  0.22442399 -0.25274109\n",
      " -0.10768397  0.17516573  0.10920605  0.34436951 -0.25267712 -0.12525657\n",
      " -0.02347316  0.18425257  0.26846321 -0.00667292  0.28571823 -0.10291202\n",
      "  0.20956111  0.03279296 -0.04989068  0.17840106 -0.1834473  -0.04389296\n",
      "  0.34720016 -0.01576035 -0.11120369 -0.46255918]\n",
      "[-0.26032864 -0.01595234 -0.00060819  0.17058087 -0.04256531  0.01865495\n",
      " -0.10499275 -0.1363503   0.52599872 -0.09020794  0.11514627 -0.17908258\n",
      "  0.21036696  0.14987885  0.12233058  0.16915757 -0.04686082  0.04144027\n",
      " -0.01021943  0.12860785 -0.06420863 -0.24580083  0.13028882 -0.00760384\n",
      " -0.18832923 -0.17570155  0.43447715  0.12405114 -0.02864167  0.08002045\n",
      " -0.2834934   0.24384988 -0.13324016 -0.04877174 -0.42588139 -0.31242792\n",
      "  0.34222459 -0.16716556  0.14754394 -0.07630072 -0.19492042  0.0069627\n",
      "  0.27635736  0.06634726  0.12703642  0.05247355  0.01677439  0.14923818\n",
      "  0.04192195 -0.00280006 -0.0142686   0.2779447   0.26687882 -0.0103834\n",
      " -0.03672464  0.07957844 -0.21329912 -0.36972627  0.21196275 -0.13047343\n",
      " -0.34682653 -0.11304293  0.21601349  0.08011485 -0.02668933  0.09204437\n",
      " -0.09388731 -0.1326516  -0.28977768 -0.10750168  0.48913892  0.23625143\n",
      "  0.03748437 -0.22919348 -0.17146728 -0.2162803   0.31561554 -0.18161069\n",
      " -0.12045305  0.25675172  0.15626386  0.34458582 -0.22297436 -0.05956147\n",
      " -0.02462411  0.10083004  0.24547434 -0.00107311  0.32389604 -0.05868211\n",
      "  0.17413293 -0.06753556 -0.07283012  0.10134546 -0.19810573 -0.04683142\n",
      "  0.37818514  0.04304286 -0.13915513 -0.41559321]\n",
      "[ -2.43850485e-01   6.79208072e-02  -1.67093008e-01   2.39203857e-01\n",
      "  -1.66413135e-01   1.28602423e-01  -1.46582885e-01  -1.16128895e-01\n",
      "   3.15086914e-01  -3.14847607e-01   1.64321977e-01  -1.28847444e-01\n",
      "   6.36730304e-05  -5.85837082e-02   3.96772537e-02   1.61970831e-01\n",
      "   9.31388387e-03   2.67418541e-02  -2.21544482e-02   1.71960069e-01\n",
      "   5.89143684e-02  -9.18301456e-02   4.30142509e-02   4.28637637e-02\n",
      "  -2.63780604e-01  -9.00339262e-02   3.90256884e-01  -1.46687061e-02\n",
      "   1.32555391e-01  -1.69675382e-02  -8.92722953e-02   1.21663970e-01\n",
      "   8.73081246e-03  -7.12546857e-02  -3.06718671e-01  -1.40795272e-01\n",
      "   2.53878260e-01  -8.11022612e-02   1.73621220e-01  -1.30222219e-01\n",
      "  -1.32284096e-01  -1.61214708e-02   2.38779312e-01   5.58121942e-02\n",
      "   1.58889488e-01   4.84810341e-02  -1.48809312e-01   1.25242029e-01\n",
      "   8.18706679e-02   8.50030419e-02  -6.75162926e-02   2.24256121e-01\n",
      "   2.06476622e-01   4.05849449e-03   6.48627387e-02   4.94111114e-02\n",
      "  -9.68332009e-02  -1.75943191e-01  -1.06237574e-01  -4.64594587e-02\n",
      "  -3.50416189e-01  -2.13191857e-01   1.28853253e-01   2.43819002e-01\n",
      "   1.12031260e-01   9.53459475e-02  -6.28378080e-02  -1.89144842e-01\n",
      "  -2.52253583e-01  -1.32640908e-01   2.69847701e-01   1.10367364e-01\n",
      "   4.57374272e-02   2.27858872e-02  -1.39215001e-01  -3.38268428e-01\n",
      "   1.34078263e-01  -2.63481500e-01  -1.52043360e-01   1.05211674e-01\n",
      "   1.16891817e-01   2.45825581e-01  -2.70883204e-01  -1.28670315e-01\n",
      "   4.55759682e-02   1.63620193e-01   3.15760308e-01   1.45755731e-03\n",
      "   1.57381669e-01  -5.29443099e-02   1.89831190e-01   1.84966359e-01\n",
      "  -3.81596276e-02   1.81773049e-01  -1.24780019e-01  -1.18924520e-02\n",
      "   3.63528834e-01  -6.82220592e-02  -8.16428341e-02  -3.90129690e-01]\n",
      "[-0.25906491 -0.02366476 -0.16581835  0.14043432 -0.18900522  0.11955056\n",
      " -0.18142312 -0.07694041  0.35526703 -0.3033995   0.17996348 -0.16311704\n",
      "  0.06712666 -0.03846573 -0.02003052  0.21903634  0.01184238  0.14152591\n",
      "  0.01725203  0.23168377  0.05860819 -0.1256435   0.11545409  0.05180271\n",
      " -0.20577555 -0.12682448  0.45535672  0.09142095  0.06088396  0.12799253\n",
      " -0.20567434  0.15110967 -0.07344514 -0.10010169 -0.38756116 -0.20941247\n",
      "  0.25131475 -0.13215725  0.12603517 -0.07305468 -0.27918516 -0.00076106\n",
      "  0.26623085  0.07941378  0.11373332 -0.01571638 -0.10756417  0.22137174\n",
      "  0.03901495  0.06033865 -0.05090757  0.29271556  0.1475196  -0.06531261\n",
      "  0.05461694  0.0024288  -0.09650657 -0.18922616 -0.03529378 -0.02502513\n",
      " -0.33900855 -0.13802542  0.07826046  0.21279688  0.09485558  0.08753841\n",
      " -0.12100827 -0.14613603 -0.27138054 -0.13559736  0.37392355  0.23420608\n",
      " -0.01275777 -0.04402293 -0.19210853 -0.26971133  0.19092252 -0.30665515\n",
      " -0.1222691   0.01571173  0.09466667  0.2249054  -0.27705712 -0.14120082\n",
      "  0.017137    0.22991298  0.28365477  0.00924346  0.22257395 -0.1342813\n",
      "  0.32429107  0.02916654 -0.08774765  0.16469357 -0.14299813 -0.07241096\n",
      "  0.36100045 -0.05575169 -0.11738163 -0.38117117]\n",
      "[ -2.87735969e-01   1.87083626e-02  -7.30373706e-02   1.47885357e-01\n",
      "  -2.27534529e-02   9.03353606e-03  -4.98567849e-02  -4.06316068e-02\n",
      "   4.11738685e-01  -1.31485882e-01   5.52292941e-02  -1.40955632e-01\n",
      "   1.66865190e-01   1.05873607e-01   1.91070658e-03   1.91017463e-01\n",
      "  -4.57838226e-02   1.01692301e-01   1.18814413e-02   1.85577396e-01\n",
      "  -9.72581075e-03  -9.57196857e-02   8.74086556e-02   5.20930548e-02\n",
      "  -3.15995174e-01  -2.28538304e-01   4.25768407e-01   1.32721047e-01\n",
      "  -1.33971841e-02   1.09761267e-01  -1.77473476e-01   1.84289336e-01\n",
      "  -1.61718854e-01  -1.26744124e-01  -4.28419558e-01  -2.86229296e-01\n",
      "   3.04157026e-01  -1.06942556e-01   1.43091209e-01  -7.19231941e-02\n",
      "  -2.67176622e-01  -3.78581910e-03   3.81082322e-01  -1.40793299e-02\n",
      "   6.36410456e-02   7.91756872e-03  -2.60771670e-02   1.43579760e-01\n",
      "   5.68769686e-02   2.33347862e-04  -2.42352980e-03   2.10465514e-01\n",
      "   2.02647043e-01  -7.71605890e-02  -3.76233798e-02   2.33899860e-02\n",
      "  -2.08159101e-01  -2.37078907e-01   1.39455156e-01  -1.42323637e-01\n",
      "  -4.31195470e-01  -7.57180782e-02   1.85251789e-01   2.07764847e-01\n",
      "   1.43895923e-02   1.27804868e-01  -1.61872762e-01  -1.09369854e-01\n",
      "  -2.97043329e-01  -9.40409219e-02   5.46010739e-01   2.03316392e-01\n",
      "   1.09576103e-01  -1.39836215e-01  -1.79786953e-01  -3.41040092e-01\n",
      "   2.90190629e-01  -2.24502646e-01  -2.00276580e-01   1.57258686e-01\n",
      "   1.37463981e-01   3.39225775e-01  -1.83987427e-01  -1.31541715e-01\n",
      "  -7.97145054e-03   1.04414105e-01   2.45947992e-01   9.06528057e-03\n",
      "   2.70110563e-01   1.74666121e-02   2.51972084e-01   1.01732172e-02\n",
      "  -2.90686150e-02   1.44935011e-01  -1.57776800e-01  -8.52750376e-02\n",
      "   4.25449880e-01  -2.45580777e-02  -8.07706020e-02  -3.95955867e-01]\n"
     ]
    }
   ],
   "source": [
    "# Shows the result.\n",
    "centers = model.clusterCenters()\n",
    "\n",
    "print(\"Cluster Centers: \")\n",
    "for center in centers:\n",
    "    print(center)"
   ]
  },
  {
   "cell_type": "code",
   "execution_count": 34,
   "metadata": {
    "collapsed": false
   },
   "outputs": [
    {
     "data": {
      "text/plain": [
       "[(100,), (100,), (100,), (100,), (100,)]"
      ]
     },
     "execution_count": 34,
     "metadata": {},
     "output_type": "execute_result"
    }
   ],
   "source": [
    "[i.shape for i in centers]"
   ]
  },
  {
   "cell_type": "code",
   "execution_count": null,
   "metadata": {
    "collapsed": false
   },
   "outputs": [],
   "source": [
    "model_pd = model.itemFactors.count()"
   ]
  },
  {
   "cell_type": "code",
   "execution_count": null,
   "metadata": {
    "collapsed": false
   },
   "outputs": [],
   "source": [
    "model_pd.tail()"
   ]
  }
 ],
 "metadata": {
  "anaconda-cloud": {},
  "kernelspec": {
   "display_name": "Python [conda root]",
   "language": "python",
   "name": "conda-root-py"
  },
  "language_info": {
   "codemirror_mode": {
    "name": "ipython",
    "version": 2
   },
   "file_extension": ".py",
   "mimetype": "text/x-python",
   "name": "python",
   "nbconvert_exporter": "python",
   "pygments_lexer": "ipython2",
   "version": "2.7.12"
  }
 },
 "nbformat": 4,
 "nbformat_minor": 1
}
